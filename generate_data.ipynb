{
 "cells": [
  {
   "cell_type": "code",
   "execution_count": null,
   "metadata": {},
   "outputs": [],
   "source": [
    "%load_ext autoreload\n",
    "%autoreload 2\n",
    "import numpy as np\n",
    "import matplotlib.pyplot as plt\n",
    "from nuflux.detgeo import get_quantities, SimulateDetector, che, plot_sim\n",
    "from nuflux import data\n",
    "import pickle"
   ]
  },
  {
   "cell_type": "code",
   "execution_count": null,
   "metadata": {},
   "outputs": [],
   "source": [
    "dt = data.get_particles('mutristan_small', 1e7)"
   ]
  },
  {
   "cell_type": "code",
   "execution_count": null,
   "metadata": {},
   "outputs": [],
   "source": [
    "with open('gen_data/mutristan_small_2.pkl', 'wb') as f:\n",
    "    pickle.dump(dt, f)"
   ]
  },
  {
   "cell_type": "code",
   "execution_count": null,
   "metadata": {},
   "outputs": [],
   "source": [
    "N_evals = 1e7\n",
    "params = ['mutristan_small', 'mutristan_large', 'mucol_s1', 'mucol_s2']\n",
    "param = params[1]\n",
    "for j in range(0, 10):\n",
    "    filename = 'gen_data/'+param+'_'+str(j+1)+'.pkl'\n",
    "    dt = data.get_particles(param, N_evals)\n",
    "    with open(filename, 'wb') as f:\n",
    "        pickle.dump(dt, f)\n"
   ]
  },
  {
   "cell_type": "code",
   "execution_count": null,
   "metadata": {},
   "outputs": [],
   "source": [
    "N_evals = 1e7\n",
    "params = ['mutristan_small', 'mutristan_large', 'mucol_s1', 'mucol_s2']\n",
    "param = params[3]\n",
    "for j in range(0, 5):\n",
    "    filename = 'gen_data/'+param+'_'+str(j+1)+'.pkl'\n",
    "    dt = data.get_particles(param, N_evals)\n",
    "    with open(filename, 'wb') as f:\n",
    "        pickle.dump(dt, f)"
   ]
  },
  {
   "cell_type": "code",
   "execution_count": null,
   "metadata": {},
   "outputs": [],
   "source": [
    "with open('gen_data/mutristan_small_2.pkl', 'rb') as f:\n",
    "    data = pickle.load(f)"
   ]
  },
  {
   "cell_type": "code",
   "execution_count": null,
   "metadata": {},
   "outputs": [],
   "source": [
    "cc = get_quantities(alr_loaded = True, dt = data)\n",
    "del data"
   ]
  },
  {
   "cell_type": "code",
   "execution_count": null,
   "metadata": {},
   "outputs": [],
   "source": [
    "cc = get_quantities('mutristan_small', N_evals = 1e5)"
   ]
  },
  {
   "cell_type": "code",
   "execution_count": null,
   "metadata": {},
   "outputs": [],
   "source": [
    "Lc_factor = 0\n",
    "geom = \"approximate_muon_detector_2\"\n",
    "particle = 'both'\n",
    "sim,sim2 = SimulateDetector(cc, Lc_factor, geom, particle).run()\n",
    "del cc"
   ]
  }
 ],
 "metadata": {
  "language_info": {
   "name": "python"
  }
 },
 "nbformat": 4,
 "nbformat_minor": 2
}
