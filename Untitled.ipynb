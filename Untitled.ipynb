{
 "cells": [
  {
   "cell_type": "code",
   "execution_count": 1,
   "id": "0cecb2d8-1911-4ea7-a838-61371b83692a",
   "metadata": {},
   "outputs": [],
   "source": [
    "from nuflux.detector_geometries.useful_data import cs_interp\n",
    "nue, numu, nuebar, numubar = cs_interp()"
   ]
  },
  {
   "cell_type": "code",
   "execution_count": 31,
   "id": "e686ed58-2494-4c24-baa8-2a55501e4580",
   "metadata": {},
   "outputs": [
    {
     "data": {
      "text/plain": [
       "[<matplotlib.lines.Line2D at 0x1508fc2b5280>]"
      ]
     },
     "execution_count": 31,
     "metadata": {},
     "output_type": "execute_result"
    },
    {
     "data": {
      "image/png": "[encoded data removed]",
      "text/plain": [
       "<Figure size 432x288 with 1 Axes>"
      ]
     },
     "metadata": {
      "needs_background": "light"
     },
     "output_type": "display_data"
    }
   ],
   "source": [
    "import matplotlib.pyplot as plt\n",
    "import numpy as np\n",
    "es = np.linspace(1000, 10000)\n",
    "xx = nue(es)\n",
    "xxx = numu(es)\n",
    "plt.plot(es, xx)"
   ]
  },
  {
   "cell_type": "code",
   "execution_count": 26,
   "id": "818c2f3c-4ccc-41ac-8b9e-42f8c565c3d1",
   "metadata": {},
   "outputs": [
    {
     "data": {
      "text/plain": [
       "7.046434082801659e-35"
      ]
     },
     "execution_count": 26,
     "metadata": {},
     "output_type": "execute_result"
    }
   ],
   "source": [
    "xx[-1]"
   ]
  },
  {
   "cell_type": "code",
   "execution_count": 27,
   "id": "6b534a3c-1f6e-4387-8304-e0ab150daf2e",
   "metadata": {},
   "outputs": [
    {
     "data": {
      "text/plain": [
       "3.758631195493489e-35"
      ]
     },
     "execution_count": 27,
     "metadata": {},
     "output_type": "execute_result"
    }
   ],
   "source": [
    "xxx[-1]"
   ]
  },
  {
   "cell_type": "code",
   "execution_count": 35,
   "id": "bb535731-1332-46a6-a750-839f9bd1f5a9",
   "metadata": {},
   "outputs": [
    {
     "data": {
      "text/plain": [
       "7.084926758668533e-39"
      ]
     },
     "execution_count": 35,
     "metadata": {},
     "output_type": "execute_result"
    }
   ],
   "source": [
    "(xx[-1] - xx[-2])/(es[-1] - es[-2])"
   ]
  },
  {
   "cell_type": "code",
   "execution_count": 39,
   "id": "7c4c6b6d-02d8-455e-9cb0-4f46b4574c03",
   "metadata": {},
   "outputs": [
    {
     "data": {
      "text/plain": [
       "7.04643408280168e-35"
      ]
     },
     "execution_count": 39,
     "metadata": {},
     "output_type": "execute_result"
    }
   ],
   "source": [
    "xx[0] + 9000 * (xx[-1] - xx[-2])/(es[-1] - es[-2])"
   ]
  },
  {
   "cell_type": "code",
   "execution_count": null,
   "id": "ef9ba4f8-10cd-41cf-a78e-791aaa8ed4b4",
   "metadata": {},
   "outputs": [],
   "source": []
  }
 ],
 "metadata": {
  "kernelspec": {
   "display_name": "Python 3",
   "language": "python",
   "name": "python3"
  },
  "language_info": {
   "codemirror_mode": {
    "name": "ipython",
    "version": 3
   },
   "file_extension": ".py",
   "mimetype": "text/x-python",
   "name": "python",
   "nbconvert_exporter": "python",
   "pygments_lexer": "ipython3",
   "version": "3.8.8"
  }
 },
 "nbformat": 4,
 "nbformat_minor": 5
}
