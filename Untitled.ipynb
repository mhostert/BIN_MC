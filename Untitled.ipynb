{
 "cells": [
  {
   "cell_type": "code",
   "execution_count": 1,
   "id": "0cecb2d8-1911-4ea7-a838-61371b83692a",
   "metadata": {},
   "outputs": [],
   "source": [
    "from nuflux.detector_geometries.useful_data import cs_interp\n",
    "nue, numu, nuebar, numubar = cs_interp()"
   ]
  },
  {
   "cell_type": "code",
   "execution_count": 31,
   "id": "e686ed58-2494-4c24-baa8-2a55501e4580",
   "metadata": {},
   "outputs": [
    {
     "data": {
      "text/plain": [
       "[<matplotlib.lines.Line2D at 0x1508fc2b5280>]"
      ]
     },
     "execution_count": 31,
     "metadata": {},
     "output_type": "execute_result"
    },
    {
     "data": {
      "image/png": "[encoded data removed]",
      "text/plain": [
       "<Figure size 432x288 with 1 Axes>"
      ]
     },
     "metadata": {
      "needs_background": "light"
     },
     "output_type": "display_data"
    }
   ],
   "source": [
    "import matplotlib.pyplot as plt\n",
    "import numpy as np\n",
    "es = np.linspace(1000, 10000)\n",
    "xx = nue(es)\n",
    "xxx = numu(es)\n",
    "plt.plot(es, xx)"
   ]
  },
  {
   "cell_type": "code",
   "execution_count": 26,
   "id": "818c2f3c-4ccc-41ac-8b9e-42f8c565c3d1",
   "metadata": {},
   "outputs": [
    {
     "data": {
      "text/plain": [
       "7.046434082801659e-35"
      ]
     },
     "execution_count": 26,
     "metadata": {},
     "output_type": "execute_result"
    }
   ],
   "source": [
    "xx[-1]"
   ]
  },
  {
   "cell_type": "code",
   "execution_count": 27,
   "id": "6b534a3c-1f6e-4387-8304-e0ab150daf2e",
   "metadata": {},
   "outputs": [
    {
     "data": {
      "text/plain": [
       "3.758631195493489e-35"
      ]
     },
     "execution_count": 27,
     "metadata": {},
     "output_type": "execute_result"
    }
   ],
   "source": [
    "xxx[-1]"
   ]
  },
  {
   "cell_type": "code",
   "execution_count": 35,
   "id": "bb535731-1332-46a6-a750-839f9bd1f5a9",
   "metadata": {},
   "outputs": [
    {
     "data": {
      "text/plain": [
       "7.084926758668533e-39"
      ]
     },
     "execution_count": 35,
     "metadata": {},
     "output_type": "execute_result"
    }
   ],
   "source": [
    "(xx[-1] - xx[-2])/(es[-1] - es[-2])"
   ]
  },
  {
   "cell_type": "code",
   "execution_count": 39,
   "id": "7c4c6b6d-02d8-455e-9cb0-4f46b4574c03",
   "metadata": {},
   "outputs": [
    {
     "data": {
      "text/plain": [
       "7.04643408280168e-35"
      ]
     },
     "execution_count": 39,
     "metadata": {},
     "output_type": "execute_result"
    }
   ],
   "source": [
    "xx[0] + 9000 * (xx[-1] - xx[-2])/(es[-1] - es[-2])"
   ]
  },
  {
   "cell_type": "code",
   "execution_count": 1,
   "id": "ef9ba4f8-10cd-41cf-a78e-791aaa8ed4b4",
   "metadata": {},
   "outputs": [
    {
     "data": {
      "text/plain": [
       "0.037"
      ]
     },
     "execution_count": 1,
     "metadata": {},
     "output_type": "execute_result"
    }
   ],
   "source": [
    "111/3000"
   ]
  },
  {
   "cell_type": "code",
   "execution_count": 2,
   "id": "17c44778-688d-4303-803c-ae3660fdcae9",
   "metadata": {},
   "outputs": [
    {
     "data": {
      "text/plain": [
       "0.021333333333333333"
      ]
     },
     "execution_count": 2,
     "metadata": {},
     "output_type": "execute_result"
    }
   ],
   "source": [
    "192/9000"
   ]
  },
  {
   "cell_type": "code",
   "execution_count": 4,
   "id": "8274446d-227e-4abe-8ea8-2c0376136790",
   "metadata": {},
   "outputs": [
    {
     "data": {
      "text/plain": [
       "0.030222222222222223"
      ]
     },
     "execution_count": 4,
     "metadata": {},
     "output_type": "execute_result"
    }
   ],
   "source": [
    "136/4500"
   ]
  },
  {
   "cell_type": "code",
   "execution_count": 5,
   "id": "57ae0157-d0d2-4c06-ae4c-068f48a41713",
   "metadata": {},
   "outputs": [
    {
     "data": {
      "text/plain": [
       "0.0202"
      ]
     },
     "execution_count": 5,
     "metadata": {},
     "output_type": "execute_result"
    }
   ],
   "source": [
    "202/10000"
   ]
  },
  {
   "cell_type": "code",
   "execution_count": 7,
   "id": "e34f1012-f22b-4d9b-bee9-25ba677159fd",
   "metadata": {},
   "outputs": [
    {
     "data": {
      "text/plain": [
       "0.022746243739565943"
      ]
     },
     "execution_count": 7,
     "metadata": {},
     "output_type": "execute_result"
    }
   ],
   "source": [
    "545 / (2450*8 + 545*8)"
   ]
  },
  {
   "cell_type": "code",
   "execution_count": 1,
   "id": "e26d81c1-d871-4bee-a7aa-dbd6f022e10e",
   "metadata": {},
   "outputs": [],
   "source": [
    "import numpy as np"
   ]
  },
  {
   "cell_type": "code",
   "execution_count": 4,
   "id": "d0fbd2b0-3c73-4e52-9e36-26e5027c27c3",
   "metadata": {},
   "outputs": [
    {
     "name": "stdout",
     "output_type": "stream",
     "text": [
      "300.0\n",
      "280.6467851365917\n"
     ]
    }
   ],
   "source": [
    "C = 3e3\n",
    "phi = 2*np.pi/10\n",
    "print(C/10)\n",
    "print(np.sin(phi)*C/2/np.pi)"
   ]
  },
  {
   "cell_type": "code",
   "execution_count": 5,
   "id": "3f60da80-5e5d-4341-99f2-d58da1a36f3b",
   "metadata": {},
   "outputs": [
    {
     "data": {
      "text/plain": [
       "23960"
      ]
     },
     "execution_count": 5,
     "metadata": {},
     "output_type": "execute_result"
    }
   ],
   "source": [
    "2450*8+545*8"
   ]
  },
  {
   "cell_type": "code",
   "execution_count": 7,
   "id": "bb5dcfb1-0069-490f-9bf3-0968db254f8d",
   "metadata": {},
   "outputs": [
    {
     "data": {
      "text/plain": [
       "0.004"
      ]
     },
     "execution_count": 7,
     "metadata": {},
     "output_type": "execute_result"
    }
   ],
   "source": [
    "6*2/3000"
   ]
  },
  {
   "cell_type": "code",
   "execution_count": 1,
   "id": "3a562c7b-f8b8-4163-838c-3e3f090ceafb",
   "metadata": {},
   "outputs": [],
   "source": [
    "%load_ext autoreload\n",
    "%autoreload 2\n",
    "import numpy as np\n",
    "import matplotlib.pyplot as plt\n",
    "from nuflux.detgeo import SimulateDecays, SimulateDetector, che, plot_sim\n",
    "import pickle\n",
    "import copy"
   ]
  },
  {
   "cell_type": "code",
   "execution_count": 2,
   "id": "8f946c97-80cf-4eee-820c-5bbeb21b12c5",
   "metadata": {},
   "outputs": [],
   "source": [
    "cc = SimulateDecays('mutristan_small', N_evals = 1e5)"
   ]
  },
  {
   "cell_type": "code",
   "execution_count": 3,
   "id": "6b840976-421e-464b-be3a-43dd587806de",
   "metadata": {},
   "outputs": [],
   "source": [
    "cc1 = copy.deepcopy(cc)\n",
    "cc1.straight_segment_at_detector(563.8, 10)"
   ]
  },
  {
   "cell_type": "code",
   "execution_count": 13,
   "id": "e30e1b80-5a83-4233-be36-5189fab66d2a",
   "metadata": {},
   "outputs": [
    {
     "data": {
      "text/plain": [
       "array([0., 0., 0., ..., 0., 0., 0.])"
      ]
     },
     "execution_count": 13,
     "metadata": {},
     "output_type": "execute_result"
    }
   ],
   "source": [
    "cc1.p[:,0]"
   ]
  },
  {
   "cell_type": "code",
   "execution_count": 28,
   "id": "38ceeead-fdf8-454e-91b3-32837409ad38",
   "metadata": {},
   "outputs": [
    {
     "data": {
      "text/plain": [
       "0.010472166278799147"
      ]
     },
     "execution_count": 28,
     "metadata": {},
     "output_type": "execute_result"
    }
   ],
   "source": [
    "cc1.eta"
   ]
  },
  {
   "cell_type": "code",
   "execution_count": 43,
   "id": "6cc5fecf-c911-422d-9c2c-e5588a5c5b3b",
   "metadata": {},
   "outputs": [
    {
     "data": {
      "text/plain": [
       "1.317446152171442e-12"
      ]
     },
     "execution_count": 43,
     "metadata": {},
     "output_type": "execute_result"
    }
   ],
   "source": [
    "np.sin(cc.eta) - (np.pi - cc.eta)* (20/(3000-20))"
   ]
  },
  {
   "cell_type": "code",
   "execution_count": 44,
   "id": "483f8327-5679-495e-9625-d0c44a6b11d0",
   "metadata": {},
   "outputs": [
    {
     "data": {
      "text/plain": [
       "0.020945472289650303"
      ]
     },
     "execution_count": 44,
     "metadata": {},
     "output_type": "execute_result"
    }
   ],
   "source": [
    "cc.solns"
   ]
  },
  {
   "cell_type": "code",
   "execution_count": 20,
   "id": "454e6d37-3f84-4d48-a841-021c016d3784",
   "metadata": {},
   "outputs": [
    {
     "data": {
      "text/plain": [
       "2.7950178817190476"
      ]
     },
     "execution_count": 20,
     "metadata": {},
     "output_type": "execute_result"
    }
   ],
   "source": [
    "cc.eta % np.pi"
   ]
  },
  {
   "cell_type": "code",
   "execution_count": 16,
   "id": "31d299cb-789e-48d1-8cc1-015ea630e310",
   "metadata": {},
   "outputs": [
    {
     "data": {
      "text/plain": [
       "1.5707963267948966"
      ]
     },
     "execution_count": 16,
     "metadata": {},
     "output_type": "execute_result"
    }
   ],
   "source": [
    "np.pi/2"
   ]
  },
  {
   "cell_type": "code",
   "execution_count": 45,
   "id": "808357b6-bb9d-45b5-983b-800a96f78caa",
   "metadata": {},
   "outputs": [
    {
     "data": {
      "text/plain": [
       "47746.50620021393"
      ]
     },
     "execution_count": 45,
     "metadata": {},
     "output_type": "execute_result"
    }
   ],
   "source": [
    "cc.Racc"
   ]
  },
  {
   "cell_type": "code",
   "execution_count": 19,
   "id": "5eac576f-852d-4566-92a5-031da24b4483",
   "metadata": {},
   "outputs": [
    {
     "data": {
      "text/plain": [
       "(array([4715., 4732., 4704., 4752., 4720., 4748., 4817., 4794., 4696.,\n",
       "        4648.]),\n",
       " array([-1.87858046e-08,  2.33253705e-07,  4.85293215e-07,  7.37332724e-07,\n",
       "         9.89372234e-07,  1.24141174e-06,  1.49345125e-06,  1.74549076e-06,\n",
       "         1.99753027e-06,  2.24956978e-06,  2.50160929e-06]),\n",
       " <BarContainer object of 10 artists>)"
      ]
     },
     "execution_count": 19,
     "metadata": {},
     "output_type": "execute_result"
    },
    {
     "data": {
      "image/png": "[encoded data removed]",
      "text/plain": [
       "<Figure size 432x288 with 1 Axes>"
      ]
     },
     "metadata": {
      "needs_background": "light"
     },
     "output_type": "display_data"
    }
   ],
   "source": [
    "plt.hist(cc1.times)"
   ]
  },
  {
   "cell_type": "code",
   "execution_count": 18,
   "id": "9c826782-9740-4469-8926-01c1b74a2fe4",
   "metadata": {},
   "outputs": [
    {
     "data": {
      "text/plain": [
       "(array([4715., 4732., 4704., 4752., 4720., 4748., 4817., 4794., 4696.,\n",
       "        4648.]),\n",
       " array([ -563.19841819,  6992.94602783, 14549.09047385, 22105.23491987,\n",
       "        29661.37936589, 37217.52381191, 44773.66825793, 52329.81270395,\n",
       "        59885.95714997, 67442.10159599, 74998.24604201]),\n",
       " <BarContainer object of 10 artists>)"
      ]
     },
     "execution_count": 18,
     "metadata": {},
     "output_type": "execute_result"
    },
    {
     "data": {
      "image/png": "[encoded data removed]",
      "text/plain": [
       "<Figure size 432x288 with 1 Axes>"
      ]
     },
     "metadata": {
      "needs_background": "light"
     },
     "output_type": "display_data"
    }
   ],
   "source": [
    "plt.hist(cc1.mltd)"
   ]
  },
  {
   "cell_type": "code",
   "execution_count": 17,
   "id": "5afc35bf-211f-448b-b561-11eab06c7c7f",
   "metadata": {},
   "outputs": [
    {
     "data": {
      "text/plain": [
       "array([0., 0., 0., ..., 0., 0., 0.])"
      ]
     },
     "execution_count": 17,
     "metadata": {},
     "output_type": "execute_result"
    }
   ],
   "source": [
    "cc.p[:,1]"
   ]
  },
  {
   "cell_type": "code",
   "execution_count": null,
   "id": "85646f6f-9833-4ffe-b83c-b616036cc317",
   "metadata": {},
   "outputs": [],
   "source": []
  }
 ],
 "metadata": {
  "kernelspec": {
   "display_name": "Python 3",
   "language": "python",
   "name": "python3"
  },
  "language_info": {
   "codemirror_mode": {
    "name": "ipython",
    "version": 3
   },
   "file_extension": ".py",
   "mimetype": "text/x-python",
   "name": "python",
   "nbconvert_exporter": "python",
   "pygments_lexer": "ipython3",
   "version": "3.8.8"
  }
 },
 "nbformat": 4,
 "nbformat_minor": 5
}
