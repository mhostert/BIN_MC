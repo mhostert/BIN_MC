{
 "cells": [
  {
   "cell_type": "markdown",
   "metadata": {},
   "source": [
    "# Paper 1 plots, tables"
   ]
  },
  {
   "cell_type": "markdown",
   "metadata": {},
   "source": [
    "## Table 1"
   ]
  },
  {
   "cell_type": "markdown",
   "metadata": {},
   "source": [
    "### $N_{mu}$"
   ]
  },
  {
   "cell_type": "code",
   "execution_count": 2,
   "metadata": {},
   "outputs": [],
   "source": [
    "import numpy as np\n",
    "import matplotlib.pyplot as plt"
   ]
  },
  {
   "cell_type": "code",
   "execution_count": 21,
   "metadata": {},
   "outputs": [
    {
     "name": "stdout",
     "output_type": "stream",
     "text": [
      "muTRISTAN (s) and (l): 8.98e+20\n"
     ]
    }
   ],
   "source": [
    "n = 3.6e-9 / (1.6e-19) * (1 - 1/np.e) *40* 365.25 * 24* 3600 * 50\n",
    "s = f'muTRISTAN (s) and (l): {n:.3g}'\n",
    "print(s)"
   ]
  },
  {
   "cell_type": "code",
   "execution_count": 36,
   "metadata": {},
   "outputs": [
    {
     "name": "stdout",
     "output_type": "stream",
     "text": [
      "MuCoL (s1): 4.39e+20\n"
     ]
    }
   ],
   "source": [
    "n = 5* 2.2e12 * (1 - 1/np.e) * 365.25 * 24* 3600 *2 #assuming two bunches collide\n",
    "s = f'MuCoL (s1): {n:.3g}'\n",
    "print(s)"
   ]
  },
  {
   "cell_type": "code",
   "execution_count": 35,
   "metadata": {},
   "outputs": [
    {
     "name": "stdout",
     "output_type": "stream",
     "text": [
      "MuCoL (s2): 3.59e+20\n"
     ]
    }
   ],
   "source": [
    "n = 5* 1.8e12 * (1 - 1/np.e) * 365.25 * 24* 3600 *2 #assuming two bunches collide\n",
    "s = f'MuCoL (s2): {n:.3g}'\n",
    "print(s)"
   ]
  },
  {
   "cell_type": "code",
   "execution_count": 30,
   "metadata": {},
   "outputs": [
    {
     "data": {
      "text/plain": [
       "7200793.860673884"
      ]
     },
     "execution_count": 30,
     "metadata": {},
     "output_type": "execute_result"
    }
   ],
   "source": [
    "3.6e-9 / (1.602e-19) *40 * 50 * 1E12 / 6.241509074461E+18"
   ]
  },
  {
   "cell_type": "code",
   "execution_count": 33,
   "metadata": {},
   "outputs": [
    {
     "data": {
      "text/plain": [
       "7209794.852999726"
      ]
     },
     "execution_count": 33,
     "metadata": {},
     "output_type": "execute_result"
    }
   ],
   "source": [
    "5* 1.8e12 * 5E12 / 6.241509074461E+18 #beam power mutristan"
   ]
  },
  {
   "cell_type": "code",
   "execution_count": 23,
   "metadata": {},
   "outputs": [
    {
     "data": {
      "text/plain": [
       "1.4346034075915438e+31"
      ]
     },
     "execution_count": 23,
     "metadata": {},
     "output_type": "execute_result"
    }
   ],
   "source": [
    "#luminosity\n",
    "(2.3e-9 /1.602e-19) / (1-1/np.e) *  (1-1/np.e**2)/2 *5 /4 / np.pi / 3.6e-6 / 1.7e-6 * (3.6e-9 /1.602e-19)"
   ]
  },
  {
   "cell_type": "code",
   "execution_count": 15,
   "metadata": {},
   "outputs": [
    {
     "data": {
      "text/plain": [
       "14357053682.89638"
      ]
     },
     "execution_count": 15,
     "metadata": {},
     "output_type": "execute_result"
    }
   ],
   "source": [
    "2.3e-9 /1.602e-19"
   ]
  },
  {
   "cell_type": "code",
   "execution_count": 22,
   "metadata": {},
   "outputs": [
    {
     "data": {
      "text/plain": [
       "3.6385464257994507e-09"
      ]
     },
     "execution_count": 22,
     "metadata": {},
     "output_type": "execute_result"
    }
   ],
   "source": [
    "(2.3e-9) / (1-1/np.e)"
   ]
  },
  {
   "cell_type": "code",
   "execution_count": 27,
   "metadata": {},
   "outputs": [
    {
     "data": {
      "text/plain": [
       "4.514591196201476e+37"
      ]
     },
     "execution_count": 27,
     "metadata": {},
     "output_type": "execute_result"
    }
   ],
   "source": [
    "1.4e10 * 6.2e10  * 4e6 / 4 / np.pi / 3.6e-6 / 1.7e-6 #(m)"
   ]
  },
  {
   "cell_type": "code",
   "execution_count": 30,
   "metadata": {},
   "outputs": [
    {
     "data": {
      "text/plain": [
       "5.514964130208271e+36"
      ]
     },
     "execution_count": 30,
     "metadata": {},
     "output_type": "execute_result"
    }
   ],
   "source": [
    "(1.4e10/(1 - 1/np.e) )**2 * (1-  1/np.e**2)/2 * 2e6 / 4 / np.pi / 3.6e-6 / 1.7e-6 # (m)"
   ]
  },
  {
   "cell_type": "code",
   "execution_count": 33,
   "metadata": {},
   "outputs": [
    {
     "data": {
      "text/plain": [
       "4.0000000000000008e+37"
      ]
     },
     "execution_count": 33,
     "metadata": {},
     "output_type": "execute_result"
    }
   ],
   "source": [
    "5 * 1.8e12 * 1.8e12 / (0.9e-6)**2 *2"
   ]
  },
  {
   "cell_type": "code",
   "execution_count": 32,
   "metadata": {},
   "outputs": [
    {
     "data": {
      "text/plain": [
       "4.0499999999999994e-13"
      ]
     },
     "execution_count": 32,
     "metadata": {},
     "output_type": "execute_result"
    }
   ],
   "source": [
    "(0.9e-6)**2 /2"
   ]
  },
  {
   "cell_type": "code",
   "execution_count": null,
   "metadata": {},
   "outputs": [],
   "source": [
    "import numpy as np\n",
    "5 * 1.8e12 * 3.154e7 * (1-1/np.e)"
   ]
  },
  {
   "cell_type": "code",
   "execution_count": 1,
   "metadata": {},
   "outputs": [
    {
     "data": {
      "text/plain": [
       "2.1620021917808219e+21"
      ]
     },
     "execution_count": 1,
     "metadata": {},
     "output_type": "execute_result"
    }
   ],
   "source": [
    "1.8e9*10e4*139/365*3.154e7"
   ]
  },
  {
   "cell_type": "code",
   "execution_count": 3,
   "metadata": {},
   "outputs": [
    {
     "data": {
      "text/plain": [
       "2.1620021917808224e+20"
      ]
     },
     "execution_count": 3,
     "metadata": {},
     "output_type": "execute_result"
    }
   ],
   "source": [
    "1.8e12*139/365*3.154e7*5*2"
   ]
  },
  {
   "cell_type": "code",
   "execution_count": 4,
   "metadata": {},
   "outputs": [
    {
     "data": {
      "text/plain": [
       "18842.85176759033"
      ]
     },
     "execution_count": 4,
     "metadata": {},
     "output_type": "execute_result"
    }
   ],
   "source": [
    "import numpy as np\n",
    "R = 866700/2/np.pi\n",
    "#R = 300000/2/np.pi\n",
    "h = 645\n",
    "2*np.sqrt(1/2 * (np.sqrt(h**4 + 4*h**2*R**2) -h**2))"
   ]
  },
  {
   "cell_type": "code",
   "execution_count": null,
   "metadata": {},
   "outputs": [],
   "source": []
  },
  {
   "cell_type": "code",
   "execution_count": 1,
   "metadata": {},
   "outputs": [],
   "source": [
    "#getting data"
   ]
  },
  {
   "cell_type": "code",
   "execution_count": null,
   "metadata": {},
   "outputs": [],
   "source": [
    "%load_ext autoreload\n",
    "%autoreload 2\n",
    "import numpy as np\n",
    "import matplotlib.pyplot as plt\n",
    "from nuflux.detgeo import SimulateDecays, SimulateDetector\n",
    "from nuflux import data\n",
    "import pickle"
   ]
  },
  {
   "cell_type": "code",
   "execution_count": null,
   "metadata": {},
   "outputs": [],
   "source": [
    "with open('gen_data/mucol_s2_1.pkl', 'rb') as f:\n",
    "    cc = SimulateDecays(alr_loaded = True, dt = pickle.load(f))"
   ]
  },
  {
   "cell_type": "code",
   "execution_count": null,
   "metadata": {},
   "outputs": [],
   "source": [
    "Lc_factor = 4\n",
    "geom = \"approximate_muon_detector_2\"\n",
    "particle = 'both'\n",
    "sim,sim2 = SimulateDetector(cc, Lc_factor, geom, particle).run()\n",
    "sim.plot(sim2)"
   ]
  },
  {
   "cell_type": "code",
   "execution_count": null,
   "metadata": {},
   "outputs": [],
   "source": [
    "sim.plot(sim2, orientation ='z-x')"
   ]
  },
  {
   "cell_type": "code",
   "execution_count": 1,
   "metadata": {},
   "outputs": [],
   "source": [
    "from nuflux.detector_geometries import useful_data as ud"
   ]
  },
  {
   "cell_type": "code",
   "execution_count": 2,
   "metadata": {},
   "outputs": [
    {
     "data": {
      "text/plain": [
       "1.1632845718015667e+25"
      ]
     },
     "execution_count": 2,
     "metadata": {},
     "output_type": "execute_result"
    }
   ],
   "source": [
    "ud.W.N"
   ]
  },
  {
   "cell_type": "code",
   "execution_count": 3,
   "metadata": {},
   "outputs": [
    {
     "data": {
      "text/plain": [
       "4.7549941806070366e+24"
      ]
     },
     "execution_count": 3,
     "metadata": {},
     "output_type": "execute_result"
    }
   ],
   "source": [
    "ud.Fe.N"
   ]
  },
  {
   "cell_type": "code",
   "execution_count": 4,
   "metadata": {},
   "outputs": [
    {
     "data": {
      "text/plain": [
       "1.6270903079323976e+24"
      ]
     },
     "execution_count": 4,
     "metadata": {},
     "output_type": "execute_result"
    }
   ],
   "source": [
    "ud.Al.N"
   ]
  },
  {
   "cell_type": "code",
   "execution_count": 6,
   "metadata": {},
   "outputs": [
    {
     "data": {
      "text/plain": [
       "3.7236768841144603e+24"
      ]
     },
     "execution_count": 6,
     "metadata": {},
     "output_type": "execute_result"
    }
   ],
   "source": [
    "ud.hcal_CLICdet.N"
   ]
  },
  {
   "cell_type": "code",
   "execution_count": 7,
   "metadata": {},
   "outputs": [
    {
     "data": {
      "text/plain": [
       "6.990226084316262e+24"
      ]
     },
     "execution_count": 7,
     "metadata": {},
     "output_type": "execute_result"
    }
   ],
   "source": [
    "ud.ecal_CLICdet.N"
   ]
  },
  {
   "cell_type": "code",
   "execution_count": 8,
   "metadata": {},
   "outputs": [],
   "source": [
    "%load_ext autoreload\n",
    "%autoreload 2\n",
    "import numpy as np\n",
    "import matplotlib.pyplot as plt\n",
    "from nuflux.detgeo import SimulateDecays, SimulateDetector, che, plot_sim\n",
    "import pickle"
   ]
  },
  {
   "cell_type": "code",
   "execution_count": 9,
   "metadata": {},
   "outputs": [],
   "source": [
    "with open('mutristan_small.pkl', 'rb') as f:\n",
    "    cc1 = pickle.load(f)"
   ]
  },
  {
   "cell_type": "code",
   "execution_count": 24,
   "metadata": {},
   "outputs": [
    {
     "name": "stdout",
     "output_type": "stream",
     "text": [
      "2861091334.5787897\n",
      "+----------------+------------+-------------+--------------+\n",
      "| Detector Parts | ν_e events | ν_μ events  | Total events |\n",
      "+----------------+------------+-------------+--------------+\n",
      "| muon_detector  | 1.319e+07  |  7.972e+06  |  2.116e+07   |\n",
      "|    solenoid    | 0.000e+00  |  0.000e+00  |  0.000e+00   |\n",
      "|      hcal      | 9.244e+00  |  4.973e+00  |  1.422e+01   |\n",
      "|      ecal      | 2.316e+01  |  1.189e+01  |  3.505e+01   |\n",
      "|    nozzles     | 1.778e+09  |  1.062e+09  |  2.840e+09   |\n",
      "|     TOTAL      | 1.791e+09  |  1.070e+09  |  2.861e+09   |\n",
      "+----------------+------------+-------------+--------------+\n",
      "+-----------------+-----------+-----------+-----------+\n",
      "| Simulation Time |  time ν_μ |  time ν_e |   TOTAL   |\n",
      "+-----------------+-----------+-----------+-----------+\n",
      "|       init      | 2.763e-01 | 2.771e-01 | 5.534e-01 |\n",
      "|     init obj    | 2.125e-01 | 2.106e-01 | 4.231e-01 |\n",
      "|    other obj    | 1.655e+01 | 1.635e+01 | 3.290e+01 |\n",
      "|      probs      | 3.007e+00 | 2.983e+00 | 5.990e+00 |\n",
      "|      events     | 1.033e+00 | 1.036e+00 | 2.069e+00 |\n",
      "|      totals     | 2.108e+01 | 2.086e+01 | 4.239e+01 |\n",
      "+-----------------+-----------+-----------+-----------+\n"
     ]
    }
   ],
   "source": [
    "fss = 1\n",
    "Lss = 11600\n",
    "geom = \"approximate_muon_detector_2\"\n",
    "particle = 'both'\n",
    "sim,sim2 = SimulateDetector(cc1, fss, geom, particle, Lss = Lss).run()"
   ]
  },
  {
   "cell_type": "code",
   "execution_count": 45,
   "metadata": {},
   "outputs": [],
   "source": [
    "cc = SimulateDecays(param = 'mucol_s2', N_evals = 1e7)\n",
    "with open('mucol_s2.pkl', 'wb') as f:\n",
    "    pickle.dump(cc, f)"
   ]
  },
  {
   "cell_type": "code",
   "execution_count": 46,
   "metadata": {},
   "outputs": [
    {
     "name": "stdout",
     "output_type": "stream",
     "text": [
      "+----------------+------------+-------------+--------------+\n",
      "| Detector Parts | ν_e events | ν_μ events  | Total events |\n",
      "+----------------+------------+-------------+--------------+\n",
      "| muon_detector  | 5.106e+10  |  3.109e+10  |  8.215e+10   |\n",
      "|    solenoid    | 2.512e+09  |  1.523e+09  |  4.035e+09   |\n",
      "|      hcal      | 2.824e+10  |  1.725e+10  |  4.549e+10   |\n",
      "|      ecal      | 5.747e+09  |  3.464e+09  |  9.211e+09   |\n",
      "|    nozzles     | 7.119e+10  |  4.346e+10  |  1.146e+11   |\n",
      "|     TOTAL      | 1.588e+11  |  9.678e+10  |  2.555e+11   |\n",
      "+----------------+------------+-------------+--------------+\n",
      "+-----------------+-----------+-----------+-----------+\n",
      "| Simulation Time |  time ν_μ |  time ν_e |   TOTAL   |\n",
      "+-----------------+-----------+-----------+-----------+\n",
      "|       init      | 2.921e-01 | 2.995e-01 | 5.916e-01 |\n",
      "|     init obj    | 4.810e+00 | 1.846e-01 | 4.995e+00 |\n",
      "|    other obj    | 2.313e+01 | 1.692e+01 | 4.005e+01 |\n",
      "|      probs      | 3.041e+00 | 3.025e+00 | 6.065e+00 |\n",
      "|      events     | 1.629e+00 | 8.163e-01 | 2.445e+00 |\n",
      "|      totals     | 3.290e+01 | 2.124e+01 | 5.461e+01 |\n",
      "+-----------------+-----------+-----------+-----------+\n"
     ]
    }
   ],
   "source": [
    "fss = 0\n",
    "Lss = 0\n",
    "geom = \"approximate_muon_detector_2\"\n",
    "particle = 'both'\n",
    "sim,sim2 = SimulateDetector(cc, fss, geom, particle).run()"
   ]
  },
  {
   "cell_type": "code",
   "execution_count": 42,
   "metadata": {},
   "outputs": [],
   "source": [
    "del cc\n",
    "cc = SimulateDecays(param = 'mucol_s1', N_evals = 1e7)\n",
    "with open('mucol_s1.pkl', 'wb') as f:\n",
    "    pickle.dump(cc, f)\n",
    "del cc\n",
    "cc = SimulateDecays(param = 'mutristan_large', N_evals = 1e7)\n",
    "with open('mutristan_large.pkl', 'wb') as f:\n",
    "    pickle.dump(cc, f)\n",
    "del cc"
   ]
  },
  {
   "cell_type": "code",
   "execution_count": 44,
   "metadata": {},
   "outputs": [
    {
     "name": "stdout",
     "output_type": "stream",
     "text": [
      "mem\n",
      "Filename: /n/home06/lbojorquezlopez/BIN_MC/nuflux/detgeo.py\n",
      "\n",
      "Line #    Mem usage    Increment  Occurrences   Line Contents\n",
      "=============================================================\n",
      "   472                                         def plot_sim(geom):\n",
      "   473                                         \n",
      "   474                                             if geom == 'approximate_muon_detector_1':\n",
      "   475                                                 T1 = [[-231, 231,231,28,-28,-231,-231], [150,150,24,3,3,24,150]]\n",
      "   476                                         \n",
      "   477                                                 ECAL1=[[-231, -231, 231, 231, -231],[150, 170, 170, 150, 150]]\n",
      "   478                                                 ECAL2 = [[231, 231, 251, 251, 231],[24, 170, 170, 26, 24]]\n",
      "   479                                                 ECAL3 = [[-1 * i for i in ECAL2[0]], ECAL2[1]]\n",
      "   480                                         \n",
      "   481                                                 HCAL1 = [[-251, -251, 251, 251, -251],[170, 348, 348, 170, 170]]\n",
      "   482                                                 HCAL2= [[251, 251, 418, 418,251, 251,251],[170, 348, 348, 43,26, 170,170]]\n",
      "   483                                                 HCAL3 = [[-1 * i for i in HCAL2[0]], HCAL2[1]]\n",
      "   484                                         \n",
      "   485                                                 SOLENOID =[[-418, -418, 418, 418, -418],[348, 446, 446, 348, 348]]\n",
      "   486                                         \n",
      "   487                                                 MD1 = [[-418, -418, 418, 418, -418],[446, 645, 645, 446, 446]]\n",
      "   488                                                 MD2 = [[418, 418, 564, 564, 418],[43, 645, 645, 58, 43]]\n",
      "   489                                                 MD3 = [[-1 * i for i in MD2[0]], MD2[1]]\n",
      "   490                                         \n",
      "   491                                                 CONE1 = [[28,564,564,28],[3,58,3,3]]\n",
      "   492                                                 CONE2 = [[-1 * i for i in CONE1[0]], CONE1[1]]\n",
      "   493                                         \n",
      "   494                                                 BL = [[-564, -564, 564, 564, -564], [-3, 3, 3, -3, -3]]\n",
      "   495                                         \n",
      "   496                                                 dets = [T1, ECAL1, ECAL2, ECAL3, HCAL1, HCAL2, HCAL3,SOLENOID, MD1, MD2, MD3, CONE1, CONE2, BL]\n",
      "   497                                                 cols = ['lightgrey']*1 + ['dimgrey']*3 + ['grey']*3 + ['darkgrey'] + 3*['grey'] + ['black']*2 + ['white']\n",
      "   498                                                 plt.figure(figsize = (20,12))\n",
      "   499                                                 for i, det in enumerate(dets):\n",
      "   500                                                     plt.plot(det[0],det[1], color = cols[i])\n",
      "   501                                                     plt.fill_between(det[0], det[1], color = cols[i], alpha=0.7)\n",
      "   502                                                     new_y =[-1*k for k in det[1]]\n",
      "   503                                                     plt.plot(det[0], new_y, color = cols[i])\n",
      "   504                                                     plt.fill_between(det[0], new_y, color = cols[i], alpha=0.7)\n",
      "   505                                         \n",
      "   506                                                 plt.xlabel(\"z-coordinate (cm)\")\n",
      "   507                                                 plt.ylabel(\"r-coordinate (cm)\")\n",
      "   508                                         \n",
      "   509                                             \n",
      "   510                                             elif (geom == 'approximate_muon_detector_2') | (geom == 'approximate_muon_detector_3'):\n",
      "   511                                                 ECAL1=[[-221, -221, 221, 221, -221],[150, 170.2, 170.2, 150, 150]]\n",
      "   512                                                 ECAL2 = [[230.7, 230.7, 250.9, 250.9, 230.7],[31, 170, 170, 33.9, 31]]\n",
      "   513                                                 ECAL3 = [[-1 * i for i in ECAL2[0]], ECAL2[1]]\n",
      "   514                                         \n",
      "   515                                                 HCAL1 = [[-221, -221, 221, 221, -221],[174, 333, 333, 174, 174]]\n",
      "   516                                                 HCAL2= [[235.4, 235.4, 412.9, 412.9,250.9, 250.9,235.4],[170, 324.6, 324.6, 56.8,33.9, 170,170]]\n",
      "   517                                                 HCAL3 = [[-1 * i for i in HCAL2[0]], HCAL2[1]]\n",
      "   518                                         \n",
      "   519                                                 SOLENOID =[[-412.9, -412.9, 412.9, 412.9, -412.9],[348.3, 352.3, 352.3, 348.3, 348.3]]\n",
      "   520                                                 SOLENOID_2 =[[-412.9, -412.9, 412.9, 412.9, -412.9],[364.9, 399.3, 399.3, 364.9, 364.9]]\n",
      "   521                                                 SOLENOID_3 =[[-412.9, -412.9, 412.9, 412.9, -412.9],[425, 429, 429, 425, 425]]\n",
      "   522                                         \n",
      "   523                                                 MD1 = [[-563.8, -563.8, 563.8, 563.8, 417.9, 417.9, -417.9, -417.9, -563.8],[78.2, 645, 645, 78.2, 57.5, 446.1, 446.1, 57.5, 78.2]]\n",
      "   524                                         \n",
      "   525                                         \n",
      "   526                                                 CONE1 = [[6.5,230.7, 250.9, 412.9, 417.9, 563.8,563.8, 6.5],[2.2,31,33.9, 56.8, 57.5 ,78.2, 2.2, 2.2]]\n",
      "   527                                                 CONE2 = [[-1 * i for i in CONE1[0]], CONE1[1]]\n",
      "   528                                         \n",
      "   529                                                 BL = [[-563.8, -563.8, 563.8, 563.8, -563.8], [-2.2, 2.2, 2.2, -2.2, -2.2]]\n",
      "   530                                         \n",
      "   531                                                 dets = [ECAL1, ECAL2, ECAL3, HCAL1, HCAL2, HCAL3,SOLENOID, SOLENOID_2, SOLENOID_3, MD1, CONE1, CONE2, BL]\n",
      "   532                                                 cols = ['dimgrey']*3 + ['darkgrey']*3 + ['grey'] + ['lightgrey'] + ['gray'] + ['grey'] + ['black']*2 + ['white']\n",
      "   533                                                 #plt.figure(figsize = (20,12))\n",
      "   534                                                 for i, det in enumerate(dets):\n",
      "   535                                                     plt.plot(det[0],det[1], color = cols[i])\n",
      "   536                                                     plt.fill_between(det[0], det[1], color = cols[i], alpha=0.7)\n",
      "   537                                                     new_y =[-1*k for k in det[1]]\n",
      "   538                                                     plt.plot(det[0], new_y, color = cols[i])\n",
      "   539                                                     plt.fill_between(det[0], new_y, color = cols[i], alpha=0.7)\n",
      "   540                                         \n",
      "   541                                                 plt.xlabel(\"z-coordinate (cm)\")\n",
      "   542                                                 plt.ylabel(\"y-coordinate (cm)\")\n",
      "   543                                         \n",
      "   544                                         \n",
      "   545                                             else:\n",
      "   546                                                 print(\"this geometry has not been implemented yet!\")\n",
      "\n",
      "\n"
     ]
    }
   ],
   "source": [
    "che()"
   ]
  },
  {
   "cell_type": "code",
   "execution_count": null,
   "metadata": {},
   "outputs": [],
   "source": []
  }
 ],
 "metadata": {
  "kernelspec": {
   "display_name": "Python 3",
   "language": "python",
   "name": "python3"
  },
  "language_info": {
   "codemirror_mode": {
    "name": "ipython",
    "version": 3
   },
   "file_extension": ".py",
   "mimetype": "text/x-python",
   "name": "python",
   "nbconvert_exporter": "python",
   "pygments_lexer": "ipython3",
   "version": "3.8.8"
  }
 },
 "nbformat": 4,
 "nbformat_minor": 4
}
