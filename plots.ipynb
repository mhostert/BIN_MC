{
 "cells": [
  {
   "cell_type": "code",
   "execution_count": 1,
   "id": "4a03e8fc-a354-48df-bbb9-2a72f7a23315",
   "metadata": {},
   "outputs": [],
   "source": [
    "#usual procedure...\n",
    "%load_ext autoreload\n",
    "%autoreload 2\n",
    "import matplotlib.pyplot as plt\n",
    "import numpy as np\n",
    "import gc\n",
    "from nuflux import detgeo as dg"
   ]
  },
  {
   "cell_type": "code",
   "execution_count": 13,
   "id": "c7ac4749-5966-42d0-b3d3-af7c70093023",
   "metadata": {},
   "outputs": [
    {
     "name": "stdout",
     "output_type": "stream",
     "text": [
      "Succesfully simulated decays:\n",
      "MuCoL (s2) parameter set with 1.000e+07 evaluations .\n",
      "1.863e+07 MC generations; took 3.69e+02 s.\n"
     ]
    }
   ],
   "source": [
    "sd = dg.SimulateDetector(param = 'mucol s2', N_evals = 1e7)"
   ]
  },
  {
   "cell_type": "code",
   "execution_count": 14,
   "id": "be38ca2b-05f3-4c81-9ab0-d770556252e7",
   "metadata": {},
   "outputs": [
    {
     "name": "stderr",
     "output_type": "stream",
     "text": [
      "[autoreload of nuflux.detgeo failed: Traceback (most recent call last):\n",
      "  File \"/n/helmod/apps/centos7/Core/Anaconda3/2021.05-jupyterood-fasrc01/x/lib/python3.8/site-packages/IPython/extensions/autoreload.py\", line 245, in check\n",
      "    superreload(m, reload, self.old_objects)\n",
      "  File \"/n/helmod/apps/centos7/Core/Anaconda3/2021.05-jupyterood-fasrc01/x/lib/python3.8/site-packages/IPython/extensions/autoreload.py\", line 394, in superreload\n",
      "    module = reload(module)\n",
      "  File \"/n/helmod/apps/centos7/Core/Anaconda3/2021.05-jupyterood-fasrc01/x/lib/python3.8/imp.py\", line 314, in reload\n",
      "    return importlib.reload(module)\n",
      "  File \"/n/helmod/apps/centos7/Core/Anaconda3/2021.05-jupyterood-fasrc01/x/lib/python3.8/importlib/__init__.py\", line 169, in reload\n",
      "    _bootstrap._exec(spec, module)\n",
      "  File \"<frozen importlib._bootstrap>\", line 604, in _exec\n",
      "  File \"<frozen importlib._bootstrap_external>\", line 779, in exec_module\n",
      "  File \"<frozen importlib._bootstrap_external>\", line 916, in get_code\n",
      "  File \"<frozen importlib._bootstrap_external>\", line 846, in source_to_code\n",
      "  File \"<frozen importlib._bootstrap>\", line 219, in _call_with_frames_removed\n",
      "  File \"/n/home06/lbojorquezlopez/BIN_MC/nuflux/detgeo.py\", line 986\n",
      "    print(f'It includes interactions from {particlenames} within the {comps.replace(',', ', ')} of the muon detector.')\n",
      "          ^\n",
      "SyntaxError: f-string: unmatched '('\n",
      "]\n"
     ]
    },
    {
     "name": "stdout",
     "output_type": "stream",
     "text": [
      "Successfully simulated neutrino event rates within Det v2:\n",
      "MuCoL (s2) (μ+μ-) at L = 100.00 m.\n",
      "Total count: 1.70e+11 events; took 2.71e+02 s.\n",
      "\n"
     ]
    }
   ],
   "source": [
    "sim = sd.run(collision = 'mu+mu-', Lss = 100)"
   ]
  },
  {
   "cell_type": "code",
   "execution_count": 15,
   "id": "8f6eec9d-238f-4cb1-abaa-6374ad456d64",
   "metadata": {},
   "outputs": [
    {
     "name": "stdout",
     "output_type": "stream",
     "text": [
      "Event Distribution:\n",
      " +------------------+-------------------+------------------------+-------------------------+--------------------+--------------+\n",
      "|  Detector Parts  | ν_e events (left) | anti ν_μ events (left) | anti ν_e events (right) | ν_μ events (right) | Total Events |\n",
      "+------------------+-------------------+------------------------+-------------------------+--------------------+--------------+\n",
      "|  muon_detector   |        14.5       |          8.8           |           7.5           |        16.9        |     47.7     |\n",
      "| solenoid_borders |        0.3        |          0.2           |           0.2           |        0.4         |     1.1      |\n",
      "|   solenoid_mid   |        0.5        |          0.3           |           0.3           |        0.6         |     1.6      |\n",
      "|       hcal       |        7.1        |          4.3           |           3.7           |        8.3         |     23.4     |\n",
      "|       ecal       |        0.9        |          0.5           |           0.5           |        1.0         |     2.9      |\n",
      "|     nozzles      |        7.0        |          4.3           |           3.6           |        8.3         |     23.3     |\n",
      "|      TOTAL       |        30.4       |          18.4          |           15.7          |        35.5        |    100.0     |\n",
      "+------------------+-------------------+------------------------+-------------------------+--------------------+--------------+\n"
     ]
    }
   ],
   "source": [
    "sim.get_face_counts(percentage = 1)"
   ]
  },
  {
   "cell_type": "code",
   "execution_count": 16,
   "id": "440c04eb-39e0-48db-839d-53479c2d4465",
   "metadata": {},
   "outputs": [
    {
     "name": "stdout",
     "output_type": "stream",
     "text": [
      "Filename: /n/home06/lbojorquezlopez/BIN_MC/nuflux/detgeo.py\n",
      "\n",
      "Line #    Mem usage    Increment  Occurrences   Line Contents\n",
      "=============================================================\n",
      "    35    412.7 MiB    412.7 MiB           1   @profile\n",
      "    36                                         def check_mem():\n",
      "    37                                             '''For memory-consuming-checking processes.'''\n",
      "    38    412.7 MiB      0.0 MiB           1       z = 1+2\n",
      "    39    412.7 MiB      0.0 MiB           1       return\n",
      "\n",
      "\n"
     ]
    }
   ],
   "source": [
    "del sim\n",
    "del sd\n",
    "gc.collect()\n",
    "dg.check_mem()"
   ]
  },
  {
   "cell_type": "code",
   "execution_count": 23,
   "id": "d3c30d20-061d-41b4-baa1-4c7830e2a960",
   "metadata": {},
   "outputs": [
    {
     "name": "stdout",
     "output_type": "stream",
     "text": [
      "Succesfully simulated decays:\n",
      "Mohkov et al. (Fermilab) parameter set with 1.000e+06 evaluations .\n",
      "1.853e+06 MC generations; took 31.9 s.\n",
      "Successfully simulated neutrino event rates within Det v2:\n",
      "Mohkov et al. (Fermilab) (μ+μ-) at L = 50.00 m.\n",
      "Total count: 8.92e+10 events; took 23.1 s.\n"
     ]
    }
   ],
   "source": [
    "sd2 = SimulateDetector(param = 'mokhov', N_evals = 1e6)\n",
    "sim2 = sd2.run(collision = 'mu+mu-', Lss = 50, show_components = 0)"
   ]
  },
  {
   "cell_type": "code",
   "execution_count": 24,
   "id": "de74e542-83b7-453a-9034-76a7132040e3",
   "metadata": {},
   "outputs": [
    {
     "name": "stdout",
     "output_type": "stream",
     "text": [
      "Succesfully simulated decays:\n",
      "μTRISTAN (s) parameter set with 1.000e+06 evaluations .\n",
      "1.853e+06 MC generations; took 32.0 s.\n",
      "Successfully simulated neutrino event rates within Det v2:\n",
      "μTRISTAN (s) (μ+μ+) at L = 100.00 m.\n",
      "Total count: 3.71e+10 events; took 21.9 s.\n",
      "\n",
      "Event Distribution:\n",
      " +----------------+-------------------+------------------------+--------------------+-------------------------+--------------+\n",
      "| Detector Parts | ν_e events (left) | anti ν_μ events (left) | ν_e events (right) | anti ν_μ events (right) | Total Events |\n",
      "+----------------+-------------------+------------------------+--------------------+-------------------------+--------------+\n",
      "| muon_detector  |     1.118e+10     |       6.689e+09        |     1.118e+10      |        6.689e+09        |  3.574e+10   |\n",
      "|    solenoid    |     0.000e+00     |       0.000e+00        |     0.000e+00      |        0.000e+00        |  0.000e+00   |\n",
      "|      hcal      |     0.000e+00     |       0.000e+00        |     0.000e+00      |        0.000e+00        |  0.000e+00   |\n",
      "|      ecal      |     0.000e+00     |       0.000e+00        |     0.000e+00      |        0.000e+00        |  0.000e+00   |\n",
      "|    nozzles     |     4.306e+08     |       2.346e+08        |     4.306e+08      |        2.346e+08        |  1.330e+09   |\n",
      "|     TOTAL      |     1.161e+10     |       6.924e+09        |     1.161e+10      |        6.924e+09        |  3.707e+10   |\n",
      "+----------------+-------------------+------------------------+--------------------+-------------------------+--------------+\n"
     ]
    }
   ],
   "source": [
    "sd3 = SimulateDetector(param = 'mutristan s', N_evals = 1e6)\n",
    "sim3 = sd3.run(collision = 'mu+mu+', Lss = 100, show_components = 1)"
   ]
  },
  {
   "cell_type": "code",
   "execution_count": 25,
   "id": "00b92b8e-0e97-4634-9dfe-cd7fd4796ba8",
   "metadata": {},
   "outputs": [],
   "source": [
    "_,_,_,w3nue,_,E3nue,_= sim1.get_data(part = 'nue')\n",
    "_,_,_,w3numu,_,E3numu,_= sim1.get_data(part = 'numu')\n",
    "_,_,_,w3nuebar,_,E3nuebar,_= sim1.get_data(part = 'nuebar')\n",
    "_,_,_,w3numubar,_,E3numubar,_= sim1.get_data(part = 'numubar')\n",
    "\n",
    "_,_,_,w1nue,_,E1nue,_= sim2.get_data(part = 'nue')\n",
    "_,_,_,w1numu,_,E1numu,_= sim2.get_data(part = 'numu')\n",
    "_,_,_,w1nuebar,_,E1nuebar,_= sim2.get_data(part = 'nuebar')\n",
    "_,_,_,w1numubar,_,E1numubar,_= sim2.get_data(part = 'numubar')\n",
    "\n",
    "_,_,_,w2nue,_,E2nue,_= sim3.get_data(part = 'nue')\n",
    "_,_,_,w2numubar,_,E2numubar,_= sim3.get_data(part = 'numubar')"
   ]
  },
  {
   "cell_type": "code",
   "execution_count": null,
   "id": "7dbf6038-705f-4b4e-bf70-d89dc8eb2c95",
   "metadata": {},
   "outputs": [],
   "source": []
  },
  {
   "cell_type": "code",
   "execution_count": 35,
   "id": "d2a98128-c560-466a-a902-7bb2fa85220e",
   "metadata": {},
   "outputs": [
    {
     "data": {
      "image/png": "[encoded data removed]",
      "text/plain": [
       "<Figure size 432x288 with 1 Axes>"
      ]
     },
     "metadata": {
      "needs_background": "light"
     },
     "output_type": "display_data"
    }
   ],
   "source": [
    "plt.hist(E1nue, weights = w1nue, label = 'E1nue', color = 'blue', linestyle = '-', histtype = 'step', bins = 100)\n",
    "plt.hist(E1numu, weights = w1numu, label = 'E1numu', color = 'green', linestyle = '-', histtype = 'step', bins = 100)\n",
    "plt.hist(E1nuebar, weights = w1nuebar, label = 'E1nuebar', color = 'red', linestyle = '-', histtype = 'step', bins = 100)\n",
    "plt.hist(E1numubar, weights = w1numubar, label = 'E1numubar', color = 'black', linestyle = '-', histtype = 'step', bins = 100)\n",
    "\n",
    "plt.hist(E2nue, weights = w2nue, label = 'E2nue', color = 'blue', linestyle = '--', histtype = 'step', bins = 100)\n",
    "plt.hist(E2numubar, weights = w2numubar, label = 'E2numubar', color = 'black', linestyle = '--', histtype = 'step', bins = 100)\n",
    "\n",
    "plt.hist(E3nue, weights = w3nue, label = 'E3nue', color = 'blue', linestyle = '-.', histtype = 'step', bins = 100)\n",
    "plt.hist(E3numu, weights = w3numu, label = 'E3numu', color = 'green', linestyle = '-.', histtype = 'step', bins = 100)\n",
    "plt.hist(E3nuebar, weights = w3nuebar, label = 'E3nuebar', color = 'red', linestyle = '-.', histtype = 'step', bins = 100)\n",
    "plt.hist(E3numubar, weights = w3numubar, label = 'E3numubar', color = 'black', linestyle = '-.', histtype = 'step', bins = 100)\n",
    "plt.show()"
   ]
  },
  {
   "cell_type": "code",
   "execution_count": null,
   "id": "84ce5baa-c7a7-4873-9c02-72737b42b3a2",
   "metadata": {},
   "outputs": [],
   "source": []
  },
  {
   "cell_type": "code",
   "execution_count": null,
   "id": "4829efc2-5bfb-4dec-98c6-dceb2d68ee1e",
   "metadata": {},
   "outputs": [],
   "source": []
  },
  {
   "cell_type": "code",
   "execution_count": null,
   "id": "ec225cb3-d136-45f8-90a8-f296bdd1b79c",
   "metadata": {},
   "outputs": [],
   "source": []
  },
  {
   "cell_type": "code",
   "execution_count": 28,
   "id": "aec9e72c-75b3-43ee-81c8-fb22e7668dad",
   "metadata": {},
   "outputs": [
    {
     "name": "stdout",
     "output_type": "stream",
     "text": [
      "Filename: /n/home06/lbojorquezlopez/BIN_MC/nuflux/detgeo.py\n",
      "\n",
      "Line #    Mem usage    Increment  Occurrences   Line Contents\n",
      "=============================================================\n",
      "    33    516.8 MiB    516.8 MiB           1   @profile\n",
      "    34                                         def check_mem():\n",
      "    35                                             '''For memory-consuming-checking processes.'''\n",
      "    36    516.8 MiB      0.0 MiB           1       z = 1+2\n",
      "    37    516.8 MiB      0.0 MiB           1       return\n",
      "\n",
      "\n"
     ]
    }
   ],
   "source": [
    "del sim3\n",
    "del sd3\n",
    "gc.collect()\n",
    "check_mem()"
   ]
  },
  {
   "cell_type": "code",
   "execution_count": null,
   "id": "3b71ec64-0968-4467-bb6e-ee46c8705b66",
   "metadata": {},
   "outputs": [],
   "source": [
    "check_mem()"
   ]
  },
  {
   "cell_type": "code",
   "execution_count": null,
   "id": "fab38031-416a-45eb-89c0-fe2f2c78c5a3",
   "metadata": {},
   "outputs": [],
   "source": []
  }
 ],
 "metadata": {
  "kernelspec": {
   "display_name": "Python 3",
   "language": "python",
   "name": "python3"
  },
  "language_info": {
   "codemirror_mode": {
    "name": "ipython",
    "version": 3
   },
   "file_extension": ".py",
   "mimetype": "text/x-python",
   "name": "python",
   "nbconvert_exporter": "python",
   "pygments_lexer": "ipython3",
   "version": "3.8.8"
  }
 },
 "nbformat": 4,
 "nbformat_minor": 5
}
