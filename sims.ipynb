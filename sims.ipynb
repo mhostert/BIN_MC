{
 "cells": [
  {
   "cell_type": "code",
   "execution_count": 1,
   "id": "80f93ec4-b457-4af6-9222-7738b0300600",
   "metadata": {},
   "outputs": [],
   "source": [
    "%load_ext autoreload\n",
    "%autoreload 2\n",
    "import numpy as np\n",
    "import matplotlib.pyplot as plt\n",
    "from nuflux.detgeo import SimulateDecays, SimulateDetector, che"
   ]
  },
  {
   "cell_type": "code",
   "execution_count": 2,
   "id": "dc2e0071-7363-420f-b5fb-fd9949807b57",
   "metadata": {},
   "outputs": [],
   "source": [
    "cc = SimulateDecays('mutristan_large', N_evals = 1e5)"
   ]
  },
  {
   "cell_type": "code",
   "execution_count": 3,
   "id": "01114689-5a49-44f3-91db-3a7e48db9dd4",
   "metadata": {},
   "outputs": [
    {
     "name": "stdout",
     "output_type": "stream",
     "text": [
      "+----------------+------------+-------------+--------------+\n",
      "| Detector Parts | ν_e events | ν_μ events  | Total events |\n",
      "+----------------+------------+-------------+--------------+\n",
      "| muon_detector  | 9.518e+10  |  5.540e+10  |  1.506e+11   |\n",
      "|    solenoid    | 4.337e+09  |  2.643e+09  |  6.980e+09   |\n",
      "|      hcal      | 5.256e+10  |  3.132e+10  |  8.388e+10   |\n",
      "|      ecal      | 1.147e+10  |  6.349e+09  |  1.782e+10   |\n",
      "|    nozzles     | 1.268e+11  |  7.054e+10  |  1.973e+11   |\n",
      "|     TOTAL      | 2.903e+11  |  1.663e+11  |  4.566e+11   |\n",
      "+----------------+------------+-------------+--------------+\n",
      "+-----------------+-----------+-----------+-----------+\n",
      "| Simulation Time |  time ν_μ |  time ν_e |   TOTAL   |\n",
      "+-----------------+-----------+-----------+-----------+\n",
      "|       init      | 1.884e-03 | 1.800e-03 | 3.684e-03 |\n",
      "|     init obj    | 8.857e+00 | 1.627e-03 | 8.859e+00 |\n",
      "|    other obj    | 6.011e+00 | 1.139e-01 | 6.125e+00 |\n",
      "|      probs      | 4.191e-02 | 2.467e-02 | 6.657e-02 |\n",
      "|      events     | 8.307e-01 | 6.781e-03 | 8.375e-01 |\n",
      "|      totals     | 1.574e+01 | 1.488e-01 | 1.589e+01 |\n",
      "+-----------------+-----------+-----------+-----------+\n"
     ]
    }
   ],
   "source": [
    "Lc_factor = 0\n",
    "geom = \"approximate_muon_detector_2\"\n",
    "particle = 'both'\n",
    "sim,sim2 = SimulateDetector(cc, Lc_factor, geom, particle).run()\n",
    "#sim.plot(sim2)"
   ]
  },
  {
   "cell_type": "code",
   "execution_count": 6,
   "id": "191cffb9-9086-44b7-b9a5-947225882083",
   "metadata": {},
   "outputs": [],
   "source": [
    "import pickle\n",
    "with open('mutristan_large.pkl', 'wb') as f:\n",
    "    pickle.dump(cc, f)"
   ]
  },
  {
   "cell_type": "code",
   "execution_count": 57,
   "id": "86bf69a7-4586-4679-b687-f8b4ec51369c",
   "metadata": {},
   "outputs": [
    {
     "data": {
      "image/png": "[encoded data removed]",
      "text/plain": [
       "<Figure size 432x288 with 1 Axes>"
      ]
     },
     "metadata": {
      "needs_background": "light"
     },
     "output_type": "display_data"
    }
   ],
   "source": [
    "plt.hist(sim.E, weights = np.sum(sim.part_face_counts, axis=1), bins = 100, histtype = 'step')\n",
    "plt.xlim(0, 100)\n",
    "plt.show()"
   ]
  },
  {
   "cell_type": "code",
   "execution_count": 41,
   "id": "b39cf1fd-67e1-43c3-903e-fb8e504639a0",
   "metadata": {},
   "outputs": [
    {
     "data": {
      "text/plain": [
       "(array([678., 192., 104.,  75.,  60.,  37.,  16.,  14.,   3.,   1.]),\n",
       " array([1.88349385e-01, 1.20425416e+02, 2.40662483e+02, 3.60899550e+02,\n",
       "        4.81136617e+02, 6.01373684e+02, 7.21610751e+02, 8.41847818e+02,\n",
       "        9.62084885e+02, 1.08232195e+03, 1.20255902e+03]),\n",
       " <BarContainer object of 10 artists>)"
      ]
     },
     "execution_count": 41,
     "metadata": {},
     "output_type": "execute_result"
    },
    {
     "data": {
      "image/png": "[encoded data removed]",
      "text/plain": [
       "<Figure size 432x288 with 1 Axes>"
      ]
     },
     "metadata": {
      "needs_background": "light"
     },
     "output_type": "display_data"
    }
   ],
   "source": [
    "plt.hist(sim.E)"
   ]
  },
  {
   "cell_type": "code",
   "execution_count": 13,
   "id": "176d9b24-d698-42aa-abe6-a349ea29ad0f",
   "metadata": {},
   "outputs": [],
   "source": [
    "from nuflux.detector_geometries import useful_data as ud"
   ]
  },
  {
   "cell_type": "code",
   "execution_count": 14,
   "id": "f3678891-9ba1-4987-abee-d6f0392a364e",
   "metadata": {},
   "outputs": [
    {
     "name": "stdout",
     "output_type": "stream",
     "text": [
      "6.283685440395748e+20\n"
     ]
    }
   ],
   "source": [
    "print(ud.mutristan_small['Nmu'])"
   ]
  },
  {
   "cell_type": "code",
   "execution_count": 15,
   "id": "88780b8e-79f9-40f5-8c7d-79f6f8514ebf",
   "metadata": {},
   "outputs": [
    {
     "name": "stdout",
     "output_type": "stream",
     "text": [
      "8.798380638101992e+19\n"
     ]
    }
   ],
   "source": [
    "print(ud.mucol_s1['Nmu'])"
   ]
  },
  {
   "cell_type": "code",
   "execution_count": 16,
   "id": "63741169-6792-4d1d-ac10-ab0c9ca738b9",
   "metadata": {},
   "outputs": [
    {
     "data": {
      "text/plain": [
       "2.646e+20"
      ]
     },
     "execution_count": 16,
     "metadata": {},
     "output_type": "execute_result"
    }
   ],
   "source": [
    "4.9e9  * 4.5e3* 1.2e7"
   ]
  },
  {
   "cell_type": "code",
   "execution_count": 26,
   "id": "ee5d01fe-1f88-4c88-93a5-1b0ffcec33b3",
   "metadata": {},
   "outputs": [
    {
     "data": {
      "text/plain": [
       "{'beam_p0': 1000.0,\n",
       " 'pmax': 3000.0,\n",
       " 'pmin': 0,\n",
       " 'Racc': 47746.482927568606,\n",
       " 'beam_dpop': 0.1,\n",
       " 'beam_dtheta': 0.000112,\n",
       " 'circular': True,\n",
       " 'Nmu': 6.283685440395748e+20}"
      ]
     },
     "execution_count": 26,
     "metadata": {},
     "output_type": "execute_result"
    }
   ],
   "source": [
    "ud.mutristan_small"
   ]
  },
  {
   "cell_type": "code",
   "execution_count": 18,
   "id": "2f39b69f-bef3-4e01-88ae-13b78ed7f924",
   "metadata": {},
   "outputs": [
    {
     "data": {
      "text/plain": [
       "2.16e+20"
      ]
     },
     "execution_count": 18,
     "metadata": {},
     "output_type": "execute_result"
    }
   ],
   "source": [
    "1.8e9 * 10e3 * 1.2e7"
   ]
  },
  {
   "cell_type": "code",
   "execution_count": 21,
   "id": "2a91a9f6-f841-4082-957f-e25eb052b03a",
   "metadata": {},
   "outputs": [],
   "source": [
    "from nuflux.detector_geometries.useful_data import mucol_s1, mucol_s2, mutristan_small, mutristan_large"
   ]
  },
  {
   "cell_type": "code",
   "execution_count": 25,
   "id": "d3d20e62-36a1-48a6-b07d-501b5e6918d4",
   "metadata": {},
   "outputs": [
    {
     "data": {
      "text/plain": [
       "{'beam_p0': 2500.0,\n",
       " 'pmax': 7500.0,\n",
       " 'pmin': 0,\n",
       " 'Racc': 71619.72439135291,\n",
       " 'beam_dpop': 0.1,\n",
       " 'beam_dtheta': 0.000352,\n",
       " 'circular': True,\n",
       " 'Nmu': 2.646e+20}"
      ]
     },
     "execution_count": 25,
     "metadata": {},
     "output_type": "execute_result"
    }
   ],
   "source": [
    "mucol_s1"
   ]
  },
  {
   "cell_type": "code",
   "execution_count": 4,
   "id": "672b9b61-14c9-485e-8985-a725d9275ea1",
   "metadata": {},
   "outputs": [
    {
     "name": "stdout",
     "output_type": "stream",
     "text": [
      "+----------------+------------+-------------+--------------+\n",
      "| Detector Parts | ν_e events | ν_μ events  | Total events |\n",
      "+----------------+------------+-------------+--------------+\n",
      "| muon_detector  | 5.261e+10  |  3.086e+10  |  8.347e+10   |\n",
      "|    solenoid    | 2.541e+09  |  1.499e+09  |  4.041e+09   |\n",
      "|      hcal      | 2.907e+10  |  1.705e+10  |  4.612e+10   |\n",
      "|      ecal      | 5.849e+09  |  3.411e+09  |  9.260e+09   |\n",
      "|    nozzles     | 8.010e+10  |  4.671e+10  |  1.268e+11   |\n",
      "|     TOTAL      | 1.702e+11  |  9.953e+10  |  2.697e+11   |\n",
      "+----------------+------------+-------------+--------------+\n",
      "+-----------------+-----------+-----------+-----------+\n",
      "| Simulation Time |  time ν_μ |  time ν_e |   TOTAL   |\n",
      "+-----------------+-----------+-----------+-----------+\n",
      "|       init      | 3.670e-01 | 3.035e-01 | 6.704e-01 |\n",
      "|     init obj    | 1.966e+01 | 3.587e-01 | 2.002e+01 |\n",
      "|    other obj    | 3.320e+01 | 2.425e+01 | 5.745e+01 |\n",
      "|      probs      | 3.495e+00 | 3.716e+00 | 7.210e+00 |\n",
      "|      events     | 2.702e+00 | 1.796e+00 | 4.498e+00 |\n",
      "|      totals     | 5.942e+01 | 3.043e+01 | 9.034e+01 |\n",
      "+-----------------+-----------+-----------+-----------+\n"
     ]
    }
   ],
   "source": [
    "import pickle\n",
    "with open('mutristan_small.pkl', 'rb') as f:\n",
    "    cc1 = pickle.load(f)\n",
    "Lc_factor = 0\n",
    "geom = \"approximate_muon_detector_2\"\n",
    "particle = 'both'\n",
    "sim11,sim12 = SimulateDetector(cc1, Lc_factor, geom, particle).run()"
   ]
  },
  {
   "cell_type": "code",
   "execution_count": 5,
   "id": "0d8e972e-dad7-4b22-aab8-01e2494fd3bd",
   "metadata": {},
   "outputs": [
    {
     "name": "stdout",
     "output_type": "stream",
     "text": [
      "+----------------+------------+-------------+--------------+\n",
      "| Detector Parts | ν_e events | ν_μ events  | Total events |\n",
      "+----------------+------------+-------------+--------------+\n",
      "| muon_detector  | 4.336e+04  |  1.652e+04  |  5.988e+04   |\n",
      "|    solenoid    | 2.981e-15  |  2.770e-16  |  3.258e-15   |\n",
      "|      hcal      | 2.873e+05  |  1.301e+05  |  4.175e+05   |\n",
      "|      ecal      | 2.228e+05  |  1.075e+05  |  3.304e+05   |\n",
      "|    nozzles     | 2.803e+11  |  1.663e+11  |  4.466e+11   |\n",
      "|     TOTAL      | 2.803e+11  |  1.663e+11  |  4.466e+11   |\n",
      "+----------------+------------+-------------+--------------+\n",
      "+-----------------+-----------+-----------+-----------+\n",
      "| Simulation Time |  time ν_μ |  time ν_e |   TOTAL   |\n",
      "+-----------------+-----------+-----------+-----------+\n",
      "|       init      | 4.706e-01 | 4.673e-01 | 9.379e-01 |\n",
      "|     init obj    | 5.183e-01 | 5.065e-01 | 1.025e+00 |\n",
      "|    other obj    | 3.871e+01 | 3.849e+01 | 7.720e+01 |\n",
      "|      probs      | 6.640e+00 | 6.613e+00 | 1.325e+01 |\n",
      "|      events     | 1.904e+00 | 1.957e+00 | 3.861e+00 |\n",
      "|      totals     | 4.825e+01 | 4.803e+01 | 9.715e+01 |\n",
      "+-----------------+-----------+-----------+-----------+\n"
     ]
    }
   ],
   "source": [
    "Lc_factor = 4\n",
    "sim13,sim14 = SimulateDetector(cc1, Lc_factor, geom, particle).run()\n",
    "del cc1"
   ]
  },
  {
   "cell_type": "code",
   "execution_count": 7,
   "id": "bc1847f5-22b0-40fb-b43f-7f6693d9c1c2",
   "metadata": {},
   "outputs": [
    {
     "name": "stdout",
     "output_type": "stream",
     "text": [
      "+----------------+------------+-------------+--------------+\n",
      "| Detector Parts | ν_e events | ν_μ events  | Total events |\n",
      "+----------------+------------+-------------+--------------+\n",
      "| muon_detector  | 9.288e+10  |  5.561e+10  |  1.485e+11   |\n",
      "|    solenoid    | 4.518e+09  |  2.698e+09  |  7.216e+09   |\n",
      "|      hcal      | 5.114e+10  |  3.073e+10  |  8.187e+10   |\n",
      "|      ecal      | 1.040e+10  |  6.259e+09  |  1.666e+10   |\n",
      "|    nozzles     | 1.296e+11  |  7.808e+10  |  2.077e+11   |\n",
      "|     TOTAL      | 2.885e+11  |  1.734e+11  |  4.619e+11   |\n",
      "+----------------+------------+-------------+--------------+\n",
      "+-----------------+-----------+-----------+-----------+\n",
      "| Simulation Time |  time ν_μ |  time ν_e |   TOTAL   |\n",
      "+-----------------+-----------+-----------+-----------+\n",
      "|       init      | 2.657e-01 | 2.597e-01 | 5.253e-01 |\n",
      "|     init obj    | 1.693e-01 | 1.642e-01 | 3.335e-01 |\n",
      "|    other obj    | 1.543e+01 | 1.897e+01 | 3.439e+01 |\n",
      "|      probs      | 2.612e+00 | 3.926e+00 | 6.538e+00 |\n",
      "|      events     | 8.199e-01 | 9.950e-01 | 1.815e+00 |\n",
      "|      totals     | 1.929e+01 | 2.431e+01 | 4.398e+01 |\n",
      "+-----------------+-----------+-----------+-----------+\n"
     ]
    }
   ],
   "source": [
    "with open('mutristan_large.pkl', 'rb') as f:\n",
    "    cc2 = pickle.load(f)\n",
    "Lc_factor = 0\n",
    "geom = \"approximate_muon_detector_2\"\n",
    "particle = 'both'\n",
    "sim21,sim22 = SimulateDetector(cc2, Lc_factor, geom, particle).run()"
   ]
  },
  {
   "cell_type": "code",
   "execution_count": 8,
   "id": "3f2c3093-22fa-4a55-9158-fecaf3af22e6",
   "metadata": {},
   "outputs": [
    {
     "name": "stdout",
     "output_type": "stream",
     "text": [
      "+----------------+------------+-------------+--------------+\n",
      "| Detector Parts | ν_e events | ν_μ events  | Total events |\n",
      "+----------------+------------+-------------+--------------+\n",
      "| muon_detector  | 6.282e+03  |  2.546e+03  |  8.828e+03   |\n",
      "|    solenoid    | 0.000e+00  |  2.786e-16  |  2.786e-16   |\n",
      "|      hcal      | 4.200e+04  |  2.285e+04  |  6.485e+04   |\n",
      "|      ecal      | 3.611e+04  |  1.918e+04  |  5.529e+04   |\n",
      "|    nozzles     | 3.780e+11  |  2.264e+11  |  6.044e+11   |\n",
      "|     TOTAL      | 3.780e+11  |  2.264e+11  |  6.044e+11   |\n",
      "+----------------+------------+-------------+--------------+\n",
      "+-----------------+-----------+-----------+-----------+\n",
      "| Simulation Time |  time ν_μ |  time ν_e |   TOTAL   |\n",
      "+-----------------+-----------+-----------+-----------+\n",
      "|       init      | 2.837e-01 | 2.746e-01 | 5.583e-01 |\n",
      "|     init obj    | 2.808e-01 | 2.698e-01 | 5.507e-01 |\n",
      "|    other obj    | 2.072e+01 | 2.074e+01 | 4.146e+01 |\n",
      "|      probs      | 3.827e+00 | 3.793e+00 | 7.620e+00 |\n",
      "|      events     | 7.914e-01 | 7.728e-01 | 1.564e+00 |\n",
      "|      totals     | 2.591e+01 | 2.585e+01 | 5.226e+01 |\n",
      "+-----------------+-----------+-----------+-----------+\n"
     ]
    }
   ],
   "source": [
    "Lc_factor = 4\n",
    "sim23,sim24 = SimulateDetector(cc2, Lc_factor, geom, particle).run()\n",
    "del cc2"
   ]
  },
  {
   "cell_type": "code",
   "execution_count": 11,
   "id": "1a866e0a-5bf1-47ce-b208-e0923356160b",
   "metadata": {},
   "outputs": [
    {
     "data": {
      "image/png": "[encoded data removed]",
      "text/plain": [
       "<Figure size 1440x864 with 2 Axes>"
      ]
     },
     "metadata": {
      "needs_background": "light"
     },
     "output_type": "display_data"
    }
   ],
   "source": [
    "import matplotlib.colors as mcolors\n",
    "bs = np.linspace(-564, 564, 200)\n",
    "bs2 = np.linspace(-645, 645, 200)\n",
    "\n",
    "fig, axs = plt.subplots(nrows=1, ncols=2, figsize = (20,12))\n",
    "fig.tight_layout()\n",
    "\n",
    "\n",
    "ax = axs[0]\n",
    "ax.hist(sim12.E, weights = np.sum(sim12.part_face_counts, axis=1), bins = 100, histtype = 'step', color='blue', label=r'$\\nu_e$ (s)')\n",
    "ax.hist(sim11.E, weights = np.sum(sim11.part_face_counts, axis=1), bins = 100, histtype = 'step', color='orange', label=r'$\\nu_mu$ (s)')\n",
    "ax.hist(sim22.E, weights = np.sum(sim22.part_face_counts, axis=1), bins = 100, histtype = 'step', color='blue', label=r'$\\nu_e$ (L)', linestyle ='--')\n",
    "ax.hist(sim21.E, weights = np.sum(sim21.part_face_counts, axis=1), bins = 100, histtype = 'step', color='orange', label=r'$\\nu_mu$ (L)', linestyle='--')\n",
    "ax.set_xlim(0,4000)\n",
    "ax.set_xlabel(r'$\\nu$ Energy (GeV)')\n",
    "ax.set_ylabel(r'$\\nu$ Events')\n",
    "\n",
    "ax = axs[1]\n",
    "ax.hist(sim14.E, weights = np.sum(sim14.part_face_counts, axis=1), bins = 100, histtype = 'step', color='blue', label=r'$\\nu_e$ (s)')\n",
    "ax.hist(sim13.E, weights = np.sum(sim13.part_face_counts, axis=1), bins = 100, histtype = 'step', color='orange', label=r'$\\nu_mu$ (s)')\n",
    "ax.hist(sim24.E, weights = np.sum(sim24.part_face_counts, axis=1), bins = 100, histtype = 'step', color='blue', label=r'$\\nu_e$ (L)', linestyle ='--')\n",
    "ax.hist(sim23.E, weights = np.sum(sim23.part_face_counts, axis=1), bins = 100, histtype = 'step', color='orange', label=r'$\\nu_mu$ (L)', linestyle='--')\n",
    "ax.set_xlabel(r'$\\nu$ Energy (GeV)')\n",
    "ax.set_ylabel(r'$\\nu$ Events')\n",
    "ax.set_xlim(0,4000)\n",
    "\n",
    "plt.show()"
   ]
  },
  {
   "cell_type": "code",
   "execution_count": 1,
   "id": "e24a5a95-b8bc-4d21-9c9b-ce4dcc1c517e",
   "metadata": {},
   "outputs": [
    {
     "ename": "NameError",
     "evalue": "name 'che' is not defined",
     "output_type": "error",
     "traceback": [
      "\u001b[0;31m---------------------------------------------------------------------------\u001b[0m",
      "\u001b[0;31mNameError\u001b[0m                                 Traceback (most recent call last)",
      "\u001b[0;32m<ipython-input-1-5238fe677ba6>\u001b[0m in \u001b[0;36m<module>\u001b[0;34m\u001b[0m\n\u001b[0;32m----> 1\u001b[0;31m \u001b[0mche\u001b[0m\u001b[0;34m(\u001b[0m\u001b[0;34m)\u001b[0m\u001b[0;34m\u001b[0m\u001b[0;34m\u001b[0m\u001b[0m\n\u001b[0m",
      "\u001b[0;31mNameError\u001b[0m: name 'che' is not defined"
     ]
    }
   ],
   "source": [
    "che()"
   ]
  },
  {
   "cell_type": "code",
   "execution_count": 11,
   "id": "1d5b26d1-cf47-4124-9d1a-ff729ea9505b",
   "metadata": {},
   "outputs": [],
   "source": [
    "del sim\n",
    "del sim2\n",
    "del sim12\n",
    "del sim1"
   ]
  },
  {
   "cell_type": "code",
   "execution_count": 13,
   "id": "b0bf2d71-1142-4927-a26e-ffde22b30cc3",
   "metadata": {},
   "outputs": [],
   "source": [
    "del cc"
   ]
  },
  {
   "cell_type": "code",
   "execution_count": 14,
   "id": "1901b3f1-5a76-48e8-8d52-245bfcfa7699",
   "metadata": {},
   "outputs": [],
   "source": [
    "del cc1"
   ]
  },
  {
   "cell_type": "code",
   "execution_count": 9,
   "id": "e9269f14-f5eb-4715-8b4e-ca3232bb94d3",
   "metadata": {},
   "outputs": [
    {
     "name": "stdout",
     "output_type": "stream",
     "text": [
      "mem\n",
      "Filename: /n/home06/lbojorquezlopez/BIN_MC/nuflux/detgeo.py\n",
      "\n",
      "Line #    Mem usage    Increment  Occurrences   Line Contents\n",
      "=============================================================\n",
      "   525   3853.4 MiB   3853.4 MiB           1   @profile\n",
      "   526                                         def che():\n",
      "   527   3853.4 MiB      0.0 MiB           1       print('mem')\n",
      "\n",
      "\n"
     ]
    }
   ],
   "source": [
    "che()"
   ]
  },
  {
   "cell_type": "code",
   "execution_count": null,
   "id": "5f0b3e03-99bb-4286-a578-c7fd86c6f3c3",
   "metadata": {},
   "outputs": [],
   "source": []
  }
 ],
 "metadata": {
  "kernelspec": {
   "display_name": "Python 3",
   "language": "python",
   "name": "python3"
  },
  "language_info": {
   "codemirror_mode": {
    "name": "ipython",
    "version": 3
   },
   "file_extension": ".py",
   "mimetype": "text/x-python",
   "name": "python",
   "nbconvert_exporter": "python",
   "pygments_lexer": "ipython3",
   "version": "3.8.8"
  }
 },
 "nbformat": 4,
 "nbformat_minor": 5
}
