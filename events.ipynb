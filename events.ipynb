{
 "cells": [
  {
   "cell_type": "code",
   "execution_count": 17,
   "id": "01956c21-9bdf-478b-9b9c-cc9409d44d7a",
   "metadata": {},
   "outputs": [
    {
     "name": "stdout",
     "output_type": "stream",
     "text": [
      "The autoreload extension is already loaded. To reload it, use:\n",
      "  %reload_ext autoreload\n"
     ]
    }
   ],
   "source": [
    "%load_ext autoreload\n",
    "%autoreload 2\n",
    "import matplotlib.pyplot as plt\n",
    "from nuflux.detgeo import SimulateDecays, SimulateDetector, check_mem, plot, phi_distribution"
   ]
  },
  {
   "cell_type": "code",
   "execution_count": 35,
   "id": "993908c9-ac5c-4891-a087-8df86d928f0c",
   "metadata": {},
   "outputs": [
    {
     "name": "stdout",
     "output_type": "stream",
     "text": [
      "Simulation: mutristan_small parameter set with 1.000e+05 evaluations \n",
      "1.875e+05 MC generations; took 3.89 s\n"
     ]
    }
   ],
   "source": [
    "cc = SimulateDecays('mutristan_small', N_evals = 1e5)"
   ]
  },
  {
   "cell_type": "code",
   "execution_count": 38,
   "id": "4d5e8317-1b76-48a1-84ee-5669e78a1169",
   "metadata": {},
   "outputs": [
    {
     "name": "stdout",
     "output_type": "stream",
     "text": [
      "Simulation: muTRISTAN (s) (μ+μ+) at L = 0.00 m with Det v2 as a detector\n",
      "Total Count: 2.63e+11 events; took 1.03 s\n"
     ]
    }
   ],
   "source": [
    "#0,5,10,25,50,Lt,200,500\n",
    "Lss = 0\n",
    "geom = \"det_v2\"\n",
    "collision = 'mu+mu+'\n",
    "sims = SimulateDetector(cc, geom, particle = None, Lss = Lss).run(show_components = 0, show_time = 0, collision = collision)"
   ]
  },
  {
   "cell_type": "code",
   "execution_count": 15,
   "id": "ff99b5b4-a848-4dfb-a143-a79bc59d9497",
   "metadata": {},
   "outputs": [],
   "source": [
    "#plot(sims)"
   ]
  },
  {
   "cell_type": "code",
   "execution_count": 39,
   "id": "e8d9c7bd-5fb0-4937-b568-0c088acfc6ae",
   "metadata": {},
   "outputs": [],
   "source": [
    "#phi_distribution(sims, nbins = 50)"
   ]
  },
  {
   "cell_type": "code",
   "execution_count": null,
   "id": "c6c96c31-feb5-4bce-9b9a-05a7de00816b",
   "metadata": {},
   "outputs": [],
   "source": []
  }
 ],
 "metadata": {
  "kernelspec": {
   "display_name": "Python 3",
   "language": "python",
   "name": "python3"
  },
  "language_info": {
   "codemirror_mode": {
    "name": "ipython",
    "version": 3
   },
   "file_extension": ".py",
   "mimetype": "text/x-python",
   "name": "python",
   "nbconvert_exporter": "python",
   "pygments_lexer": "ipython3",
   "version": "3.8.8"
  }
 },
 "nbformat": 4,
 "nbformat_minor": 5
}
