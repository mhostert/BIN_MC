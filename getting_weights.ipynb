{
 "cells": [
  {
   "cell_type": "code",
   "execution_count": 1,
   "id": "4b6c5c2c-353d-4777-a3b9-b5e40d923f47",
   "metadata": {},
   "outputs": [],
   "source": [
    "#usual procedure...\n",
    "%load_ext autoreload\n",
    "%autoreload 2\n",
    "import matplotlib.pyplot as plt\n",
    "import numpy as np\n",
    "from nuflux import detgeo as dg\n",
    "import pandas as pd\n",
    "import gc\n",
    "import pickle\n",
    "import matplotlib.ticker as ticker\n",
    "import nuflux.detector_geometries.useful_data as ud\n",
    "from matplotlib.colors import LinearSegmentedColormap"
   ]
  },
  {
   "cell_type": "code",
   "execution_count": 6,
   "id": "a25080c8-f71a-4152-ab4a-7741f6cdc4f6",
   "metadata": {},
   "outputs": [
    {
     "name": "stdout",
     "output_type": "stream",
     "text": [
      "Succesfully simulated decays:\n",
      "μTRISTAN (s) parameter set with 1.000e+05 evaluations .\n",
      "1.875e+05 MC generations; took 3.81 s.\n",
      "Successfully simulated neutrino event rates within Det v2:\n",
      "μTRISTAN (s) (μ+μ+) at L = 75.00 m.\n",
      "Total count: 1.13e+11 events; took 1.68 s.\n",
      "\n",
      "Attempt 1 failed. Trying again; tell MH to improve his code.\n",
      "Attempt 2 failed. Trying again; tell MH to improve his code.\n",
      "Attempt 3 failed. Trying again; tell MH to improve his code.\n",
      "Succesfully simulated decays:\n",
      "Mohkov et al. (Fermilab) parameter set with 1.000e+05 evaluations .\n",
      "1.875e+05 MC generations; took 7.45 s.\n",
      "Successfully simulated neutrino event rates within Det v2:\n",
      "Mohkov et al. (Fermilab) (μ+μ-) at L = 50.00 m.\n",
      "Total count: 1.84e+11 events; took 1.9 s.\n",
      "\n",
      "Succesfully simulated decays:\n",
      "IMCC-II parameter set with 1.000e+05 evaluations .\n",
      "1.876e+05 MC generations; took 3.84 s.\n",
      "Successfully simulated neutrino event rates within Det v2:\n",
      "IMCC-II (μ+μ-) at L = 100.00 m.\n",
      "Total count: 1.65e+11 events; took 1.81 s.\n",
      "\n"
     ]
    }
   ],
   "source": [
    "sim = dg.SimulateDetector(param = 'mutristan s', N_evals = 1e5)\n",
    "sd = sim.run(collision = 'mu+mu+', Lss = 75)\n",
    "sim = dg.SimulateDetector(param = 'mokhov', N_evals = 1e5)\n",
    "sd1 = sim.run(collision = 'mu+mu-', Lss = 50)\n",
    "sim = dg.SimulateDetector(param = 'mucol s2', N_evals = 1e5)\n",
    "sd2 = sim.run(collision = 'mu+mu-', Lss = 100, show_components = 1)"
   ]
  },
  {
   "cell_type": "code",
   "execution_count": 24,
   "id": "47b23020-b524-4584-8740-eee40f30f59c",
   "metadata": {},
   "outputs": [
    {
     "name": "stdout",
     "output_type": "stream",
     "text": [
      "Succesfully simulated decays:\n",
      "IMCC-II parameter set with 1.000e+05 evaluations .\n",
      "1.875e+05 MC generations; took 3.83 s.\n",
      "Successfully simulated neutrino event rates within Det v2:\n",
      "IMCC-II (μ+μ-) at L = 100.00 m.\n",
      "Total count: 1.65e+11 events; took 1.88 s.\n",
      "\n"
     ]
    }
   ],
   "source": [
    "sim = dg.SimulateDetector(param = 'mucol s2', N_evals = 1e5)\n",
    "sd2 = sim.run()"
   ]
  },
  {
   "cell_type": "code",
   "execution_count": 43,
   "id": "bcee96c9-f51b-49b8-9108-c776de7af5ef",
   "metadata": {},
   "outputs": [],
   "source": [
    "counts_dict = {'muon_detector':0, 'hcal':0, 'ecal':0, 'nozzles':0, 'solenoid_borders':0, 'solenoid_mid':0}\n",
    "tc = 0\n",
    "exp = 'mucol s2' #'mutristan s', 'mokhov'\n",
    "ne  = 1e5\n",
    "reps = 5"
   ]
  },
  {
   "cell_type": "code",
   "execution_count": 44,
   "id": "bfd63f2a-340e-471c-a69e-5253598eccc7",
   "metadata": {},
   "outputs": [
    {
     "name": "stdout",
     "output_type": "stream",
     "text": [
      "Succesfully simulated decays:\n",
      "IMCC-II parameter set with 1.000e+05 evaluations .\n",
      "1.875e+05 MC generations; took 3.84 s.\n",
      "Successfully simulated neutrino event rates within Det v2:\n",
      "IMCC-II (μ+μ-) at L = 100.00 m.\n",
      "Total count: 1.67e+11 events; took 1.89 s.\n",
      "\n",
      "Succesfully simulated decays:\n",
      "IMCC-II parameter set with 1.000e+05 evaluations .\n",
      "1.875e+05 MC generations; took 3.83 s.\n",
      "Successfully simulated neutrino event rates within Det v2:\n",
      "IMCC-II (μ+μ-) at L = 100.00 m.\n",
      "Total count: 1.59e+11 events; took 1.97 s.\n",
      "\n",
      "Succesfully simulated decays:\n",
      "IMCC-II parameter set with 1.000e+05 evaluations .\n",
      "1.875e+05 MC generations; took 3.83 s.\n",
      "Successfully simulated neutrino event rates within Det v2:\n",
      "IMCC-II (μ+μ-) at L = 100.00 m.\n",
      "Total count: 1.64e+11 events; took 1.84 s.\n",
      "\n",
      "Succesfully simulated decays:\n",
      "IMCC-II parameter set with 1.000e+05 evaluations .\n",
      "1.875e+05 MC generations; took 3.86 s.\n",
      "Successfully simulated neutrino event rates within Det v2:\n",
      "IMCC-II (μ+μ-) at L = 100.00 m.\n",
      "Total count: 1.64e+11 events; took 1.9 s.\n",
      "\n",
      "Succesfully simulated decays:\n",
      "IMCC-II parameter set with 1.000e+05 evaluations .\n",
      "1.876e+05 MC generations; took 3.87 s.\n",
      "Successfully simulated neutrino event rates within Det v2:\n",
      "IMCC-II (μ+μ-) at L = 100.00 m.\n",
      "Total count: 1.72e+11 events; took 1.9 s.\n",
      "\n"
     ]
    }
   ],
   "source": [
    "for i in range(reps):\n",
    "    sim = dg.SimulateDetector(param = 'mucol s2', N_evals = 1e5)\n",
    "    sd2 = sim.run()\n",
    "    tc += sd2.tc/reps\n",
    "    for key in counts_dict.keys():\n",
    "        t = 0\n",
    "        for i in range(len(sd2.sims)):\n",
    "            t+=sd2.sims[i].facecounts[key]\n",
    "        counts_dict[key] += t/reps/sd2.tc*100"
   ]
  },
  {
   "cell_type": "code",
   "execution_count": 45,
   "id": "258bb35f-5eae-4345-aee9-a0731847c534",
   "metadata": {},
   "outputs": [
    {
     "data": {
      "text/plain": [
       "{'muon_detector': 48.3678126666278,\n",
       " 'hcal': 23.36100345272776,\n",
       " 'ecal': 3.0697974094270846,\n",
       " 'nozzles': 22.397165158728484,\n",
       " 'solenoid_borders': 1.1376398855278735,\n",
       " 'solenoid_mid': 1.6665814269609973}"
      ]
     },
     "execution_count": 45,
     "metadata": {},
     "output_type": "execute_result"
    }
   ],
   "source": [
    "counts_dict"
   ]
  },
  {
   "cell_type": "code",
   "execution_count": 46,
   "id": "243c9e6c-ff19-4281-af82-ee25bfd57907",
   "metadata": {},
   "outputs": [
    {
     "data": {
      "text/plain": [
       "165406847439.5089"
      ]
     },
     "execution_count": 46,
     "metadata": {},
     "output_type": "execute_result"
    }
   ],
   "source": [
    "tc"
   ]
  },
  {
   "cell_type": "code",
   "execution_count": 32,
   "id": "c75161f8-9e2f-4cfe-8fc1-2f716ecab512",
   "metadata": {},
   "outputs": [
    {
     "data": {
      "text/plain": [
       "4"
      ]
     },
     "execution_count": 32,
     "metadata": {},
     "output_type": "execute_result"
    }
   ],
   "source": [
    "len(sd2.sims)"
   ]
  },
  {
   "cell_type": "code",
   "execution_count": null,
   "id": "1275790f-b9c1-4bec-b3f8-2b4bcd03164f",
   "metadata": {},
   "outputs": [],
   "source": []
  }
 ],
 "metadata": {
  "kernelspec": {
   "display_name": "Python 3",
   "language": "python",
   "name": "python3"
  },
  "language_info": {
   "codemirror_mode": {
    "name": "ipython",
    "version": 3
   },
   "file_extension": ".py",
   "mimetype": "text/x-python",
   "name": "python",
   "nbconvert_exporter": "python",
   "pygments_lexer": "ipython3",
   "version": "3.8.8"
  }
 },
 "nbformat": 4,
 "nbformat_minor": 5
}
