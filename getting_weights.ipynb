{
 "cells": [
  {
   "cell_type": "code",
   "execution_count": 1,
   "id": "4b6c5c2c-353d-4777-a3b9-b5e40d923f47",
   "metadata": {},
   "outputs": [],
   "source": [
    "#usual procedure...\n",
    "%load_ext autoreload\n",
    "%autoreload 2\n",
    "import matplotlib.pyplot as plt\n",
    "import numpy as np\n",
    "from nuflux import detgeo as dg\n",
    "import pandas as pd\n",
    "import gc\n",
    "import pickle\n",
    "import matplotlib.ticker as ticker\n",
    "import nuflux.detector_geometries.useful_data as ud\n",
    "from matplotlib.colors import LinearSegmentedColormap"
   ]
  },
  {
   "cell_type": "code",
   "execution_count": 6,
   "id": "a25080c8-f71a-4152-ab4a-7741f6cdc4f6",
   "metadata": {},
   "outputs": [
    {
     "name": "stdout",
     "output_type": "stream",
     "text": [
      "Succesfully simulated decays:\n",
      "μTRISTAN (s) parameter set with 1.000e+05 evaluations .\n",
      "1.875e+05 MC generations; took 3.81 s.\n",
      "Successfully simulated neutrino event rates within Det v2:\n",
      "μTRISTAN (s) (μ+μ+) at L = 75.00 m.\n",
      "Total count: 1.13e+11 events; took 1.68 s.\n",
      "\n",
      "Attempt 1 failed. Trying again; tell MH to improve his code.\n",
      "Attempt 2 failed. Trying again; tell MH to improve his code.\n",
      "Attempt 3 failed. Trying again; tell MH to improve his code.\n",
      "Succesfully simulated decays:\n",
      "Mohkov et al. (Fermilab) parameter set with 1.000e+05 evaluations .\n",
      "1.875e+05 MC generations; took 7.45 s.\n",
      "Successfully simulated neutrino event rates within Det v2:\n",
      "Mohkov et al. (Fermilab) (μ+μ-) at L = 50.00 m.\n",
      "Total count: 1.84e+11 events; took 1.9 s.\n",
      "\n",
      "Succesfully simulated decays:\n",
      "IMCC-II parameter set with 1.000e+05 evaluations .\n",
      "1.876e+05 MC generations; took 3.84 s.\n",
      "Successfully simulated neutrino event rates within Det v2:\n",
      "IMCC-II (μ+μ-) at L = 100.00 m.\n",
      "Total count: 1.65e+11 events; took 1.81 s.\n",
      "\n"
     ]
    }
   ],
   "source": [
    "sim = dg.SimulateDetector(param = 'mutristan s', N_evals = 1e5)\n",
    "sd = sim.run(collision = 'mu+mu+', Lss = 75)\n",
    "sim = dg.SimulateDetector(param = 'mokhov', N_evals = 1e5)\n",
    "sd1 = sim.run(collision = 'mu+mu-', Lss = 50)\n",
    "sim = dg.SimulateDetector(param = 'mucol s2', N_evals = 1e5)\n",
    "sd2 = sim.run(collision = 'mu+mu-', Lss = 100, show_components = 1)"
   ]
  },
  {
   "cell_type": "code",
   "execution_count": 24,
   "id": "47b23020-b524-4584-8740-eee40f30f59c",
   "metadata": {},
   "outputs": [
    {
     "name": "stdout",
     "output_type": "stream",
     "text": [
      "Succesfully simulated decays:\n",
      "IMCC-II parameter set with 1.000e+05 evaluations .\n",
      "1.875e+05 MC generations; took 3.83 s.\n",
      "Successfully simulated neutrino event rates within Det v2:\n",
      "IMCC-II (μ+μ-) at L = 100.00 m.\n",
      "Total count: 1.65e+11 events; took 1.88 s.\n",
      "\n"
     ]
    }
   ],
   "source": [
    "sim = dg.SimulateDetector(param = 'mucol s2', N_evals = 1e5)\n",
    "sd2 = sim.run()"
   ]
  },
  {
   "cell_type": "code",
   "execution_count": 9,
   "id": "bcee96c9-f51b-49b8-9108-c776de7af5ef",
   "metadata": {},
   "outputs": [],
   "source": []
  },
  {
   "cell_type": "code",
   "execution_count": 11,
   "id": "bfd63f2a-340e-471c-a69e-5253598eccc7",
   "metadata": {},
   "outputs": [
    {
     "name": "stdout",
     "output_type": "stream",
     "text": [
      "done\n",
      "[{'muon_detector': 14.828737220689618, 'hcal': 7.268344410579092, 'ecal': 0.9021635445152285, 'nozzles': 7.234258229400494, 'solenoid_borders': 0.3388182233432486, 'solenoid_mid': 0.504226158453185}, {'muon_detector': 9.002308594040738, 'hcal': 4.4187549930826115, 'ecal': 0.5465999503934863, 'nozzles': 4.400229459832773, 'solenoid_borders': 0.20636824645559132, 'solenoid_mid': 0.30783879421605}, {'muon_detector': 9.039835317040788, 'hcal': 4.411161954111631, 'ecal': 0.551511030202595, 'nozzles': 4.4208021588850475, 'solenoid_borders': 0.2072642492917675, 'solenoid_mid': 0.30793775563130443}, {'muon_detector': 14.836400495678491, 'hcal': 7.241186746593437, 'ecal': 0.9108501350191356, 'nozzles': 7.265860179261139, 'solenoid_borders': 0.34134355096691377, 'solenoid_mid': 0.507198602315641}]\n",
      "165593902855.0419\n"
     ]
    }
   ],
   "source": [
    "counts_dict_0 = {'muon_detector':0, 'hcal':0, 'ecal':0, 'nozzles':0, 'solenoid_borders':0, 'solenoid_mid':0}\n",
    "counts_dict_1 = {'muon_detector':0, 'hcal':0, 'ecal':0, 'nozzles':0, 'solenoid_borders':0, 'solenoid_mid':0}\n",
    "counts_dict_2 = {'muon_detector':0, 'hcal':0, 'ecal':0, 'nozzles':0, 'solenoid_borders':0, 'solenoid_mid':0}\n",
    "counts_dict_3 = {'muon_detector':0, 'hcal':0, 'ecal':0, 'nozzles':0, 'solenoid_borders':0, 'solenoid_mid':0}\n",
    "counts_dict = [counts_dict_0, counts_dict_1, counts_dict_2, counts_dict_3]\n",
    "tc = 0\n",
    "exp = 'mucol s2' #'mutristan s', 'mokhov'\n",
    "ne  = 1e5\n",
    "reps = 400\n",
    "\n",
    "for i in range(reps):\n",
    "    sim = dg.SimulateDetector(param = 'mucol s2', N_evals = 1e5)\n",
    "    sd2 = sim.run()\n",
    "    tc += sd2.tc/reps\n",
    "    for key in counts_dict_1.keys():\n",
    "        t = 0\n",
    "        for i in range(len(sd2.sims)):\n",
    "            counts_dict[i][key]+=sd2.sims[i].facecounts[key]/reps/sd2.tc*100\n",
    "print('done')\n",
    "print(counts_dict)\n",
    "print(tc)"
   ]
  },
  {
   "cell_type": "code",
   "execution_count": null,
   "id": "cc8ca4c8-6d7f-4850-9d1a-a049e3b03dbe",
   "metadata": {},
   "outputs": [],
   "source": []
  }
 ],
 "metadata": {
  "kernelspec": {
   "display_name": "Python 3",
   "language": "python",
   "name": "python3"
  },
  "language_info": {
   "codemirror_mode": {
    "name": "ipython",
    "version": 3
   },
   "file_extension": ".py",
   "mimetype": "text/x-python",
   "name": "python",
   "nbconvert_exporter": "python",
   "pygments_lexer": "ipython3",
   "version": "3.8.8"
  }
 },
 "nbformat": 4,
 "nbformat_minor": 5
}
