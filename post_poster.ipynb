{
 "cells": [
  {
   "cell_type": "code",
   "execution_count": 1,
   "id": "4b6c525a-ef4c-461f-8872-2a3fbfe46895",
   "metadata": {},
   "outputs": [],
   "source": [
    "#usual procedure...\n",
    "%load_ext autoreload\n",
    "%autoreload 2\n",
    "import matplotlib.pyplot as plt\n",
    "import numpy as np\n",
    "from nuflux import detgeo as dg\n",
    "import pandas as pd\n",
    "import gc\n",
    "import pickle\n",
    "import matplotlib.ticker as ticker"
   ]
  },
  {
   "cell_type": "code",
   "execution_count": 40,
   "id": "9e627053-5802-4416-9707-505d5a33cc16",
   "metadata": {},
   "outputs": [
    {
     "name": "stdout",
     "output_type": "stream",
     "text": [
      "Succesfully simulated decays:\n",
      "IMCC-II parameter set with 1.000e+05 evaluations .\n",
      "1.875e+05 MC generations; took 3.84 s.\n",
      "Successfully simulated neutrino event rates within Det v2:\n",
      "IMCC-II (μ+μ-) at L = 50.00 m.\n",
      "Total count: 1.74e+11 events; took 1.82 s.\n",
      "\n"
     ]
    }
   ],
   "source": [
    "sim = dg.SimulateDetector(param = 'mucol s2', N_evals = 1e5)\n",
    "sd1 = sim.run(collision = 'mu+mu-', Lss = 50)"
   ]
  },
  {
   "cell_type": "code",
   "execution_count": 38,
   "id": "471ae0c6-caae-4850-824e-af3132ef658a",
   "metadata": {},
   "outputs": [
    {
     "data": {
      "text/plain": [
       "<matplotlib.collections.PathCollection at 0x14cb1d3ab250>"
      ]
     },
     "execution_count": 38,
     "metadata": {},
     "output_type": "execute_result"
    },
    {
     "data": {
      "image/png": "[encoded data removed]",
      "text/plain": [
       "<Figure size 432x288 with 1 Axes>"
      ]
     },
     "metadata": {
      "needs_background": "light"
     },
     "output_type": "display_data"
    }
   ],
   "source": [
    "plt.scatter(sims[3].intersection_points[:,2], sims[3].intersection_points[:,1])"
   ]
  },
  {
   "cell_type": "code",
   "execution_count": 41,
   "id": "cec4878d-fe0f-42fa-966b-00b47ab95e09",
   "metadata": {},
   "outputs": [
    {
     "name": "stdout",
     "output_type": "stream",
     "text": [
      "1.31 mm for sigma x\n",
      "1.57 mm for sigma y\n",
      "1.54 mm for sigma x\n",
      "1.57 mm for sigma y\n"
     ]
    }
   ],
   "source": [
    "sims, lum = sim.NuNuLuminosity(particle1 = 'numubar', particle2 = 'numu')"
   ]
  },
  {
   "cell_type": "code",
   "execution_count": 42,
   "id": "5ba36e24-cdd6-4af4-8ad5-dd1f0c1158f2",
   "metadata": {},
   "outputs": [
    {
     "data": {
      "text/plain": [
       "3.741345764059203e+19"
      ]
     },
     "execution_count": 42,
     "metadata": {},
     "output_type": "execute_result"
    }
   ],
   "source": [
    "lum"
   ]
  },
  {
   "cell_type": "code",
   "execution_count": null,
   "id": "bfc49ee2-73f8-4ea5-af83-b8e04002c24f",
   "metadata": {},
   "outputs": [],
   "source": []
  }
 ],
 "metadata": {
  "kernelspec": {
   "display_name": "Python 3",
   "language": "python",
   "name": "python3"
  },
  "language_info": {
   "codemirror_mode": {
    "name": "ipython",
    "version": 3
   },
   "file_extension": ".py",
   "mimetype": "text/x-python",
   "name": "python",
   "nbconvert_exporter": "python",
   "pygments_lexer": "ipython3",
   "version": "3.8.8"
  }
 },
 "nbformat": 4,
 "nbformat_minor": 5
}
