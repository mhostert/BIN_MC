{
 "cells": [
  {
   "cell_type": "code",
   "execution_count": 1,
   "id": "cc1b1735-34f4-40af-a0d2-1d300e931fc1",
   "metadata": {},
   "outputs": [],
   "source": [
    "#usual procedure...\n",
    "%load_ext autoreload\n",
    "%autoreload 2\n",
    "import matplotlib.pyplot as plt\n",
    "import numpy as np\n",
    "from nuflux import detgeo as dg\n",
    "import pandas as pd\n",
    "import gc\n",
    "import pickle\n",
    "import matplotlib.ticker as ticker\n",
    "import nuflux.detector_geometries.useful_data as ud\n",
    "from matplotlib.colors import LinearSegmentedColormap"
   ]
  },
  {
   "cell_type": "code",
   "execution_count": 2,
   "id": "f612bc44-8ce2-489a-9307-2f49172ffba2",
   "metadata": {},
   "outputs": [
    {
     "name": "stderr",
     "output_type": "stream",
     "text": [
      "/n/home06/lbojorquezlopez/.local/lib/python3.8/site-packages/DarkNews/MC.py:486: RuntimeWarning: overflow encountered in divide\n",
      "  integ(batch_f, nitn=NINT_warmup, neval=NEVAL_warmup, uses_jac=True, **kwargs)\n"
     ]
    },
    {
     "name": "stdout",
     "output_type": "stream",
     "text": [
      "done\n",
      "[{'muon_detector': 26.41275034047341, 'hcal': 3.0735193505936294, 'ecal': 0.0, 'nozzles': 0.06443718846138978, 'solenoid_borders': 0.7874064396881361, 'solenoid_mid': 1.1653602396565352}, {'muon_detector': 15.513016081166851, 'hcal': 1.811309913381353, 'ecal': 4.9244402495120605e-11, 'nozzles': 0.03997442783069739, 'solenoid_borders': 0.4632542503400058, 'solenoid_mid': 0.6860194456864356}, {'muon_detector': 26.337432275758463, 'hcal': 3.089352291966358, 'ecal': 1.988838862319425e-11, 'nozzles': 0.06710879794972734, 'solenoid_borders': 0.7894718614490681, 'solenoid_mid': 1.1673488181468694}, {'muon_detector': 15.52638884939325, 'hcal': 1.8158675098754968, 'ecal': 7.5804681553629e-11, 'nozzles': 0.03934914383173179, 'solenoid_borders': 0.46436267255083896, 'solenoid_mid': 0.6862701016548186}]\n",
      "81264561993.55392\n"
     ]
    }
   ],
   "source": [
    "counts_dict_0 = {'muon_detector':0, 'hcal':0, 'ecal':0, 'nozzles':0, 'solenoid_borders':0, 'solenoid_mid':0}\n",
    "counts_dict_1 = {'muon_detector':0, 'hcal':0, 'ecal':0, 'nozzles':0, 'solenoid_borders':0, 'solenoid_mid':0}\n",
    "counts_dict_2 = {'muon_detector':0, 'hcal':0, 'ecal':0, 'nozzles':0, 'solenoid_borders':0, 'solenoid_mid':0}\n",
    "counts_dict_3 = {'muon_detector':0, 'hcal':0, 'ecal':0, 'nozzles':0, 'solenoid_borders':0, 'solenoid_mid':0}\n",
    "counts_dict = [counts_dict_0, counts_dict_1, counts_dict_2, counts_dict_3]\n",
    "tc = 0\n",
    "exp = 'mutristan s' #'mutristan s', 'mokhov'\n",
    "ne  = 1e5\n",
    "reps = 400\n",
    "\n",
    "for i in range(reps):\n",
    "    sim = dg.SimulateDetector(param = exp, N_evals = ne)\n",
    "    sd2 = sim.run()\n",
    "    tc += sd2.tc/reps\n",
    "    for key in counts_dict_1.keys():\n",
    "        t = 0\n",
    "        for i in range(len(sd2.sims)):\n",
    "            counts_dict[i][key]+=sd2.sims[i].facecounts[key]/reps/sd2.tc*100\n",
    "print('done')\n",
    "print(counts_dict)\n",
    "print(tc)"
   ]
  },
  {
   "cell_type": "code",
   "execution_count": 5,
   "id": "219edc6f-21f1-416a-bb65-62e3431b0760",
   "metadata": {},
   "outputs": [
    {
     "name": "stdout",
     "output_type": "stream",
     "text": [
      "{'muon_detector': 31.039404930560103, 'hcal': 3.6271774232568497, 'ecal': 1.2504908404874962e-10, 'nozzles': 0.07932357166242918, 'solenoid_borders': 0.9276169228908447, 'solenoid_mid': 1.3722895473412542}\n"
     ]
    }
   ],
   "source": [
    "i= [1,3]\n",
    "cnt_dict = {'muon_detector':0, 'hcal':0, 'ecal':0, 'nozzles':0, 'solenoid_borders':0, 'solenoid_mid':0}\n",
    "for key in cnt_dict.keys():\n",
    "    for j in i:\n",
    "        cnt_dict[key] += counts_dict[j][key]\n",
    "print(cnt_dict)"
   ]
  },
  {
   "cell_type": "code",
   "execution_count": null,
   "id": "bd41a8d6-02e7-40cf-a0b9-508f2cdf1128",
   "metadata": {},
   "outputs": [],
   "source": []
  }
 ],
 "metadata": {
  "kernelspec": {
   "display_name": "Python 3",
   "language": "python",
   "name": "python3"
  },
  "language_info": {
   "codemirror_mode": {
    "name": "ipython",
    "version": 3
   },
   "file_extension": ".py",
   "mimetype": "text/x-python",
   "name": "python",
   "nbconvert_exporter": "python",
   "pygments_lexer": "ipython3",
   "version": "3.8.8"
  }
 },
 "nbformat": 4,
 "nbformat_minor": 5
}
