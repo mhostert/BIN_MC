{
 "cells": [
  {
   "cell_type": "code",
   "execution_count": 1,
   "id": "129df9f8-22c0-42a1-a7b0-488e04a91cde",
   "metadata": {},
   "outputs": [],
   "source": [
    "#usual procedure...\n",
    "%load_ext autoreload\n",
    "%autoreload 2\n",
    "import matplotlib.pyplot as plt\n",
    "import numpy as np\n",
    "from nuflux import detgeo as dg\n",
    "import pandas as pd\n",
    "import gc\n",
    "import pickle\n",
    "import matplotlib.ticker as ticker\n",
    "import nuflux.detector_geometries.useful_data as ud\n",
    "from matplotlib.colors import LinearSegmentedColormap"
   ]
  },
  {
   "cell_type": "code",
   "execution_count": 3,
   "id": "d6896027-c9d1-4038-be43-6409b5900086",
   "metadata": {},
   "outputs": [
    {
     "name": "stderr",
     "output_type": "stream",
     "text": [
      "/n/home06/lbojorquezlopez/.local/lib/python3.8/site-packages/DarkNews/MC.py:486: RuntimeWarning: overflow encountered in divide\n",
      "  integ(batch_f, nitn=NINT_warmup, neval=NEVAL_warmup, uses_jac=True, **kwargs)\n"
     ]
    },
    {
     "name": "stdout",
     "output_type": "stream",
     "text": [
      "done\n",
      "[{'muon_detector': 18.195884822599115, 'hcal': 8.982495802241184, 'ecal': 1.6316400235210167, 'nozzles': 1.6488589759173493, 'solenoid_borders': 0.40628892516998, 'solenoid_mid': 0.6001777168878794}, {'muon_detector': 10.749190518034164, 'hcal': 5.303804243492552, 'ecal': 0.9643313285445148, 'nozzles': 0.964947855314657, 'solenoid_borders': 0.23980913837832243, 'solenoid_mid': 0.35487008916862106}, {'muon_detector': 10.726530916266308, 'hcal': 5.305839760935416, 'ecal': 0.9675137797536498, 'nozzles': 0.9759483241323901, 'solenoid_borders': 0.23896391998864214, 'solenoid_mid': 0.35298668761568947}, {'muon_detector': 18.147809466147024, 'hcal': 8.971637043832846, 'ecal': 1.6375645457244183, 'nozzles': 1.630277823615734, 'solenoid_borders': 0.4043998924531374, 'solenoid_mid': 0.5982284002653862}]\n",
      "182892577621.767\n"
     ]
    }
   ],
   "source": [
    "counts_dict_0 = {'muon_detector':0, 'hcal':0, 'ecal':0, 'nozzles':0, 'solenoid_borders':0, 'solenoid_mid':0}\n",
    "counts_dict_1 = {'muon_detector':0, 'hcal':0, 'ecal':0, 'nozzles':0, 'solenoid_borders':0, 'solenoid_mid':0}\n",
    "counts_dict_2 = {'muon_detector':0, 'hcal':0, 'ecal':0, 'nozzles':0, 'solenoid_borders':0, 'solenoid_mid':0}\n",
    "counts_dict_3 = {'muon_detector':0, 'hcal':0, 'ecal':0, 'nozzles':0, 'solenoid_borders':0, 'solenoid_mid':0}\n",
    "counts_dict = [counts_dict_0, counts_dict_1, counts_dict_2, counts_dict_3]\n",
    "tc = 0\n",
    "exp = 'mokhov' #'mutristan s', 'mokhov'\n",
    "ne  = 1e5\n",
    "reps = 400\n",
    "\n",
    "for i in range(reps):\n",
    "    sim = dg.SimulateDetector(param = exp, N_evals = ne)\n",
    "    sd2 = sim.run()\n",
    "    tc += sd2.tc/reps\n",
    "    for key in counts_dict_1.keys():\n",
    "        t = 0\n",
    "        for i in range(len(sd2.sims)):\n",
    "            counts_dict[i][key]+=sd2.sims[i].facecounts[key]/reps/sd2.tc*100\n",
    "print('done')\n",
    "print(counts_dict)\n",
    "print(tc)"
   ]
  },
  {
   "cell_type": "code",
   "execution_count": 6,
   "id": "bbba14c0-98ae-403d-91ae-88363164f4f8",
   "metadata": {},
   "outputs": [
    {
     "data": {
      "text/plain": [
       "{'time': array([1.72668939e+09, 1.72668939e+09, 1.72668939e+09, 1.72668939e+09,\n",
       "        1.72668939e+09, 1.72668939e+09]),\n",
       " 'd': 'right',\n",
       " 'rmax': 645.0,\n",
       " 'zending': 563.8,\n",
       " 'face_dict': {'muon_detector': [1, 31, 8, 49, 88, 26, 93],\n",
       "  'solenoid_borders': [20, 22, 23, 25, 32, 34],\n",
       "  'solenoid_mid': [21, 24, 33],\n",
       "  'hcal': [10, 19, 28, 29, 30, 39, 47, 71, 72, 76, 77, 81],\n",
       "  'ecal': [11, 35, 41, 42, 46, 52, 68, 69, 70, 83, 86],\n",
       "  'nozzles': [-2, 2, 14, 15, 17, 27, 43, 78, 53, 66, 67, 82, 85, 87]},\n",
       " 'detname': 'Det v2',\n",
       " 'particle': 'nuebar',\n",
       " 'paramname': 'Mohkov et al. (Fermilab)',\n",
       " 'Lval': 5000.0,\n",
       " 'E': array([667.07032361, 667.07032361, 667.07032361, ..., 162.36057453,\n",
       "        162.36057453, 188.68187506]),\n",
       " 'intersection_points': array([[[ 0.00000000e+00, -1.20729134e+02, -4.08770628e+03],\n",
       "         [ 4.59644459e-01,  2.12207740e+02, -5.63800000e+02],\n",
       "         [ 4.78675081e-01,  2.25992298e+02, -4.17900000e+02],\n",
       "         ...,\n",
       "         [ 6.06724163e-01,  3.18742815e+02,  5.63800000e+02],\n",
       "         [ 6.06724163e-01,  3.18742815e+02,  5.63800000e+02],\n",
       "         [ 6.06724163e-01,  3.18742815e+02,  5.63800000e+02]],\n",
       " \n",
       "        [[ 0.00000000e+00,  0.00000000e+00, -1.20992308e+03],\n",
       "         [ 2.08761600e-01,  7.28134209e-01, -5.63800000e+02],\n",
       "         [ 5.73087820e-01,  1.99885825e+00,  5.63800000e+02],\n",
       "         ...,\n",
       "         [ 5.73087820e-01,  1.99885825e+00,  5.63800000e+02],\n",
       "         [ 5.73087820e-01,  1.99885825e+00,  5.63800000e+02],\n",
       "         [ 5.73087820e-01,  1.99885825e+00,  5.63800000e+02]],\n",
       " \n",
       "        [[ 0.00000000e+00, -3.74438861e+01, -3.08173029e+03],\n",
       "         [ 1.42459571e-01,  1.41618594e+02, -5.63800000e+02],\n",
       "         [ 1.50714308e-01,  1.51994265e+02, -4.17900000e+02],\n",
       "         ...,\n",
       "         [ 2.06256974e-01,  2.21807809e+02,  5.63800000e+02],\n",
       "         [ 2.06256974e-01,  2.21807809e+02,  5.63800000e+02],\n",
       "         [ 2.06256974e-01,  2.21807809e+02,  5.63800000e+02]],\n",
       " \n",
       "        ...,\n",
       " \n",
       "        [[ 0.00000000e+00, -1.97292306e+02, -4.82983140e+03],\n",
       "         [-2.46869595e-01,  2.79468728e+02, -5.63800000e+02],\n",
       "         [-2.55312635e-01,  2.95774149e+02, -4.17900000e+02],\n",
       "         ...,\n",
       "         [-3.12122316e-01,  4.05486494e+02,  5.63800000e+02],\n",
       "         [-3.12122316e-01,  4.05486494e+02,  5.63800000e+02],\n",
       "         [-3.12122316e-01,  4.05486494e+02,  5.63800000e+02]],\n",
       " \n",
       "        [[ 0.00000000e+00, -5.53401769e+00, -2.59423899e+03],\n",
       "         [ 3.33219554e-01,  1.15335754e+02, -5.63800000e+02],\n",
       "         [ 3.57163506e-01,  1.24021019e+02, -4.17900000e+02],\n",
       "         ...,\n",
       "         [ 5.18272330e-01,  1.82460527e+02,  5.63800000e+02],\n",
       "         [ 5.18272330e-01,  1.82460527e+02,  5.63800000e+02],\n",
       "         [ 5.18272330e-01,  1.82460527e+02,  5.63800000e+02]],\n",
       " \n",
       "        [[ 0.00000000e+00,  0.00000000e+00, -1.32109545e+03],\n",
       "         [ 6.39987045e-01,  6.84403279e-01, -5.63800000e+02],\n",
       "         [ 1.50261862e+00,  1.60690301e+00,  4.56950299e+02],\n",
       "         ...,\n",
       "         [ 1.59291683e+00,  1.70346808e+00,  5.63800000e+02],\n",
       "         [ 1.59291683e+00,  1.70346808e+00,  5.63800000e+02],\n",
       "         [ 1.59291683e+00,  1.70346808e+00,  5.63800000e+02]]]),\n",
       " 'location': array([ 1, 19, 29, ..., 77, 31, 17]),\n",
       " 'new_indices': array([   17,    45,    49, ..., 47169, 47211, 47225]),\n",
       " 'costheta': array([0.99556646, 0.99556646, 0.99556646, ..., 0.99823284, 0.99823284,\n",
       "        0.99999923]),\n",
       " 'w': array([ 4659545.98611084,  4439240.52656391, 11054334.04801523, ...,\n",
       "          949613.88504896,  1092107.35648753,  1921344.85611673]),\n",
       " 'times': array([-1.38055503e-08, -9.01294531e-09, -5.37995659e-09, ...,\n",
       "         1.32358280e-08,  1.44084846e-08,  1.62605175e-08]),\n",
       " 'arrx': array([-0.47768032, -0.49633858, -0.5104823 , ..., -0.49002644,\n",
       "        -0.4957858 , -1.52842669]),\n",
       " 'arry': array([225.27175482, 238.78660001, 249.0314    , ..., 172.21480546,\n",
       "        174.30391929,   1.63450221]),\n",
       " 'arrz': array([ 425.52644939,  282.4811709 ,  174.04705673, ..., -391.68656116,\n",
       "        -426.78068023, -487.48894477]),\n",
       " 'wnl': array([4.21596253e+42, 4.01662981e+42, 1.00019739e+43, ...,\n",
       "        3.36496259e+42, 3.86988910e+42, 5.89790219e+42]),\n",
       " 'facecounts': {'muon_detector': 18934948358.112545,\n",
       "  'solenoid_borders': 466169584.3690507,\n",
       "  'solenoid_mid': 712247246.1459006,\n",
       "  'hcal': 9622921070.408688,\n",
       "  'ecal': 1901516202.662004,\n",
       "  'nozzles': 1706184998.2725253}}"
      ]
     },
     "execution_count": 6,
     "metadata": {},
     "output_type": "execute_result"
    }
   ],
   "source": [
    "vars(sd2.sims[2])"
   ]
  },
  {
   "cell_type": "code",
   "execution_count": null,
   "id": "a2caa9a4-9d26-49f6-9d3f-be5bad628f0d",
   "metadata": {},
   "outputs": [],
   "source": []
  }
 ],
 "metadata": {
  "kernelspec": {
   "display_name": "Python 3",
   "language": "python",
   "name": "python3"
  },
  "language_info": {
   "codemirror_mode": {
    "name": "ipython",
    "version": 3
   },
   "file_extension": ".py",
   "mimetype": "text/x-python",
   "name": "python",
   "nbconvert_exporter": "python",
   "pygments_lexer": "ipython3",
   "version": "3.8.8"
  }
 },
 "nbformat": 4,
 "nbformat_minor": 5
}
